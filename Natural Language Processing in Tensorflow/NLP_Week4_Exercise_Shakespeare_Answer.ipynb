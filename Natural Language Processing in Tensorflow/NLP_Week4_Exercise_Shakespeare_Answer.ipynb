{
  "nbformat": 4,
  "nbformat_minor": 0,
  "metadata": {
    "colab": {
      "name": "NLP_Week4_Exercise_Shakespeare_Answer.ipynb",
      "provenance": []
    },
    "kernelspec": {
      "name": "python3",
      "display_name": "Python 3"
    },
    "accelerator": "GPU"
  },
  "cells": [
    {
      "cell_type": "code",
      "metadata": {
        "id": "BOwsuGQQY9OL",
        "colab_type": "code",
        "colab": {
          "base_uri": "https://localhost:8080/",
          "height": 80
        },
        "outputId": "fc6a8d7a-cd19-4d7e-ff76-7348015403cb"
      },
      "source": [
        "from tensorflow.keras.preprocessing.sequence import pad_sequences\n",
        "from tensorflow.keras.layers import Embedding, LSTM, Dense, Dropout, Bidirectional\n",
        "from tensorflow.keras.preprocessing.text import Tokenizer\n",
        "from tensorflow.keras.models import Sequential\n",
        "from tensorflow.keras.optimizers import Adam\n",
        "from tensorflow.keras import regularizers\n",
        "import tensorflow.keras.utils as ku \n",
        "import numpy as np "
      ],
      "execution_count": 1,
      "outputs": [
        {
          "output_type": "display_data",
          "data": {
            "text/html": [
              "<p style=\"color: red;\">\n",
              "The default version of TensorFlow in Colab will soon switch to TensorFlow 2.x.<br>\n",
              "We recommend you <a href=\"https://www.tensorflow.org/guide/migrate\" target=\"_blank\">upgrade</a> now \n",
              "or ensure your notebook will continue to use TensorFlow 1.x via the <code>%tensorflow_version 1.x</code> magic:\n",
              "<a href=\"https://colab.research.google.com/notebooks/tensorflow_version.ipynb\" target=\"_blank\">more info</a>.</p>\n"
            ],
            "text/plain": [
              "<IPython.core.display.HTML object>"
            ]
          },
          "metadata": {
            "tags": []
          }
        }
      ]
    },
    {
      "cell_type": "code",
      "metadata": {
        "colab_type": "code",
        "id": "PRnDnCW-Z7qv",
        "colab": {
          "base_uri": "https://localhost:8080/",
          "height": 224
        },
        "outputId": "67ef4348-fe68-4a92-84fd-8cf34a0eb012"
      },
      "source": [
        "tokenizer = Tokenizer()\n",
        "!wget --no-check-certificate \\\n",
        "    https://storage.googleapis.com/laurencemoroney-blog.appspot.com/sonnets.txt \\\n",
        "    -O /tmp/sonnets.txt\n",
        "data = open('/tmp/sonnets.txt').read()\n",
        "\n",
        "corpus = data.lower().split(\"\\n\")\n",
        "\n",
        "\n",
        "tokenizer.fit_on_texts(corpus)\n",
        "total_words = len(tokenizer.word_index) + 1\n",
        "\n",
        "# create input sequences using list of tokens\n",
        "input_sequences = []\n",
        "for line in corpus:\n",
        "\ttoken_list = tokenizer.texts_to_sequences([line])[0]\n",
        "\tfor i in range(1, len(token_list)):\n",
        "\t\tn_gram_sequence = token_list[:i+1]\n",
        "\t\tinput_sequences.append(n_gram_sequence)\n",
        "\n",
        "\n",
        "# pad sequences \n",
        "max_sequence_len = max([len(x) for x in input_sequences])\n",
        "input_sequences = np.array(pad_sequences(input_sequences, maxlen=max_sequence_len, padding='pre'))\n",
        "\n",
        "# create predictors and label\n",
        "predictors, label = input_sequences[:,:-1],input_sequences[:,-1]\n",
        "\n",
        "label = ku.to_categorical(label, num_classes=total_words)"
      ],
      "execution_count": 2,
      "outputs": [
        {
          "output_type": "stream",
          "text": [
            "--2019-12-09 02:23:21--  https://storage.googleapis.com/laurencemoroney-blog.appspot.com/sonnets.txt\n",
            "Resolving storage.googleapis.com (storage.googleapis.com)... 108.177.126.128, 2a00:1450:4013:c01::80\n",
            "Connecting to storage.googleapis.com (storage.googleapis.com)|108.177.126.128|:443... connected.\n",
            "HTTP request sent, awaiting response... 200 OK\n",
            "Length: 93578 (91K) [text/plain]\n",
            "Saving to: ‘/tmp/sonnets.txt’\n",
            "\n",
            "\r/tmp/sonnets.txt      0%[                    ]       0  --.-KB/s               \r/tmp/sonnets.txt    100%[===================>]  91.38K  --.-KB/s    in 0.001s  \n",
            "\n",
            "2019-12-09 02:23:21 (160 MB/s) - ‘/tmp/sonnets.txt’ saved [93578/93578]\n",
            "\n"
          ],
          "name": "stdout"
        }
      ]
    },
    {
      "cell_type": "code",
      "metadata": {
        "id": "w9vH8Y59ajYL",
        "colab_type": "code",
        "colab": {
          "base_uri": "https://localhost:8080/",
          "height": 649
        },
        "outputId": "bfdaa7dd-d25b-4484-b1e3-1b62919843cc"
      },
      "source": [
        "model = Sequential()\n",
        "model.add(Embedding(total_words, 100, input_length=max_sequence_len-1))\n",
        "model.add(Bidirectional(LSTM(150, return_sequences = True)))\n",
        "model.add(Dropout(0.2))\n",
        "model.add(LSTM(100))\n",
        "model.add(Dense(total_words/2, activation='relu', kernel_regularizer=regularizers.l2(0.01)))\n",
        "model.add(Dense(total_words, activation='softmax'))\n",
        "model.compile(loss='categorical_crossentropy', optimizer='adam', metrics=['accuracy'])\n",
        "print(model.summary())\n"
      ],
      "execution_count": 3,
      "outputs": [
        {
          "output_type": "stream",
          "text": [
            "WARNING:tensorflow:From /usr/local/lib/python3.6/dist-packages/tensorflow_core/python/keras/initializers.py:119: calling RandomUniform.__init__ (from tensorflow.python.ops.init_ops) with dtype is deprecated and will be removed in a future version.\n",
            "Instructions for updating:\n",
            "Call initializer instance with the dtype argument instead of passing it to the constructor\n",
            "WARNING:tensorflow:From /usr/local/lib/python3.6/dist-packages/tensorflow_core/python/ops/resource_variable_ops.py:1630: calling BaseResourceVariable.__init__ (from tensorflow.python.ops.resource_variable_ops) with constraint is deprecated and will be removed in a future version.\n",
            "Instructions for updating:\n",
            "If using Keras pass *_constraint arguments to layers.\n",
            "WARNING:tensorflow:From /usr/local/lib/python3.6/dist-packages/tensorflow_core/python/ops/init_ops.py:97: calling GlorotUniform.__init__ (from tensorflow.python.ops.init_ops) with dtype is deprecated and will be removed in a future version.\n",
            "Instructions for updating:\n",
            "Call initializer instance with the dtype argument instead of passing it to the constructor\n",
            "WARNING:tensorflow:From /usr/local/lib/python3.6/dist-packages/tensorflow_core/python/ops/init_ops.py:97: calling Orthogonal.__init__ (from tensorflow.python.ops.init_ops) with dtype is deprecated and will be removed in a future version.\n",
            "Instructions for updating:\n",
            "Call initializer instance with the dtype argument instead of passing it to the constructor\n",
            "WARNING:tensorflow:From /usr/local/lib/python3.6/dist-packages/tensorflow_core/python/ops/init_ops.py:97: calling Zeros.__init__ (from tensorflow.python.ops.init_ops) with dtype is deprecated and will be removed in a future version.\n",
            "Instructions for updating:\n",
            "Call initializer instance with the dtype argument instead of passing it to the constructor\n",
            "Model: \"sequential\"\n",
            "_________________________________________________________________\n",
            "Layer (type)                 Output Shape              Param #   \n",
            "=================================================================\n",
            "embedding (Embedding)        (None, 10, 100)           321100    \n",
            "_________________________________________________________________\n",
            "bidirectional (Bidirectional (None, 10, 300)           301200    \n",
            "_________________________________________________________________\n",
            "dropout (Dropout)            (None, 10, 300)           0         \n",
            "_________________________________________________________________\n",
            "lstm_1 (LSTM)                (None, 100)               160400    \n",
            "_________________________________________________________________\n",
            "dense (Dense)                (None, 1605)              162105    \n",
            "_________________________________________________________________\n",
            "dense_1 (Dense)              (None, 3211)              5156866   \n",
            "=================================================================\n",
            "Total params: 6,101,671\n",
            "Trainable params: 6,101,671\n",
            "Non-trainable params: 0\n",
            "_________________________________________________________________\n",
            "None\n"
          ],
          "name": "stdout"
        }
      ]
    },
    {
      "cell_type": "code",
      "metadata": {
        "id": "AIg2f1HBxqof",
        "colab_type": "code",
        "colab": {
          "base_uri": "https://localhost:8080/",
          "height": 1000
        },
        "outputId": "8aae03e6-c264-41ed-c923-4db2296023e2"
      },
      "source": [
        " history = model.fit(predictors, label, epochs=100, verbose=1)"
      ],
      "execution_count": 4,
      "outputs": [
        {
          "output_type": "stream",
          "text": [
            "WARNING:tensorflow:From /usr/local/lib/python3.6/dist-packages/tensorflow_core/python/ops/math_grad.py:1424: where (from tensorflow.python.ops.array_ops) is deprecated and will be removed in a future version.\n",
            "Instructions for updating:\n",
            "Use tf.where in 2.0, which has the same broadcast rule as np.where\n",
            "Train on 15462 samples\n",
            "Epoch 1/100\n",
            "15462/15462 [==============================] - 20s 1ms/sample - loss: 6.9273 - acc: 0.0210\n",
            "Epoch 2/100\n",
            "15462/15462 [==============================] - 19s 1ms/sample - loss: 6.5035 - acc: 0.0226\n",
            "Epoch 3/100\n",
            "15462/15462 [==============================] - 18s 1ms/sample - loss: 6.3924 - acc: 0.0267\n",
            "Epoch 4/100\n",
            "15462/15462 [==============================] - 18s 1ms/sample - loss: 6.2748 - acc: 0.0299\n",
            "Epoch 5/100\n",
            "15462/15462 [==============================] - 19s 1ms/sample - loss: 6.1861 - acc: 0.0358\n",
            "Epoch 6/100\n",
            "15462/15462 [==============================] - 18s 1ms/sample - loss: 6.1125 - acc: 0.0367\n",
            "Epoch 7/100\n",
            "15462/15462 [==============================] - 18s 1ms/sample - loss: 6.0360 - acc: 0.0407\n",
            "Epoch 8/100\n",
            "15462/15462 [==============================] - 19s 1ms/sample - loss: 5.9604 - acc: 0.0423\n",
            "Epoch 9/100\n",
            "15462/15462 [==============================] - 19s 1ms/sample - loss: 5.8703 - acc: 0.0470\n",
            "Epoch 10/100\n",
            "15462/15462 [==============================] - 18s 1ms/sample - loss: 5.7666 - acc: 0.0536\n",
            "Epoch 11/100\n",
            "15462/15462 [==============================] - 19s 1ms/sample - loss: 5.6569 - acc: 0.0590\n",
            "Epoch 12/100\n",
            "15462/15462 [==============================] - 19s 1ms/sample - loss: 5.5530 - acc: 0.0648\n",
            "Epoch 13/100\n",
            "15462/15462 [==============================] - 18s 1ms/sample - loss: 5.4512 - acc: 0.0711\n",
            "Epoch 14/100\n",
            "15462/15462 [==============================] - 18s 1ms/sample - loss: 5.3466 - acc: 0.0757\n",
            "Epoch 15/100\n",
            "15462/15462 [==============================] - 18s 1ms/sample - loss: 5.2410 - acc: 0.0839\n",
            "Epoch 16/100\n",
            "15462/15462 [==============================] - 18s 1ms/sample - loss: 5.1407 - acc: 0.0919\n",
            "Epoch 17/100\n",
            "15462/15462 [==============================] - 19s 1ms/sample - loss: 5.0331 - acc: 0.1006\n",
            "Epoch 18/100\n",
            "15462/15462 [==============================] - 18s 1ms/sample - loss: 4.9359 - acc: 0.1086\n",
            "Epoch 19/100\n",
            "15462/15462 [==============================] - 19s 1ms/sample - loss: 4.8340 - acc: 0.1157\n",
            "Epoch 20/100\n",
            "15462/15462 [==============================] - 18s 1ms/sample - loss: 4.7318 - acc: 0.1258\n",
            "Epoch 21/100\n",
            "15462/15462 [==============================] - 19s 1ms/sample - loss: 4.6235 - acc: 0.1362\n",
            "Epoch 22/100\n",
            "15462/15462 [==============================] - 19s 1ms/sample - loss: 4.5178 - acc: 0.1477\n",
            "Epoch 23/100\n",
            "15462/15462 [==============================] - 18s 1ms/sample - loss: 4.4086 - acc: 0.1572\n",
            "Epoch 24/100\n",
            "15462/15462 [==============================] - 19s 1ms/sample - loss: 4.3060 - acc: 0.1724\n",
            "Epoch 25/100\n",
            "15462/15462 [==============================] - 18s 1ms/sample - loss: 4.1969 - acc: 0.1839\n",
            "Epoch 26/100\n",
            "15462/15462 [==============================] - 18s 1ms/sample - loss: 4.0868 - acc: 0.1984\n",
            "Epoch 27/100\n",
            "15462/15462 [==============================] - 18s 1ms/sample - loss: 3.9854 - acc: 0.2138\n",
            "Epoch 28/100\n",
            "15462/15462 [==============================] - 19s 1ms/sample - loss: 3.8831 - acc: 0.2307\n",
            "Epoch 29/100\n",
            "15462/15462 [==============================] - 19s 1ms/sample - loss: 3.7779 - acc: 0.2489\n",
            "Epoch 30/100\n",
            "15462/15462 [==============================] - 19s 1ms/sample - loss: 3.6815 - acc: 0.2700\n",
            "Epoch 31/100\n",
            "15462/15462 [==============================] - 18s 1ms/sample - loss: 3.5790 - acc: 0.2903\n",
            "Epoch 32/100\n",
            "15462/15462 [==============================] - 19s 1ms/sample - loss: 3.4840 - acc: 0.3046\n",
            "Epoch 33/100\n",
            "15462/15462 [==============================] - 19s 1ms/sample - loss: 3.3973 - acc: 0.3276\n",
            "Epoch 34/100\n",
            "15462/15462 [==============================] - 18s 1ms/sample - loss: 3.3047 - acc: 0.3443\n",
            "Epoch 35/100\n",
            "15462/15462 [==============================] - 18s 1ms/sample - loss: 3.2205 - acc: 0.3670\n",
            "Epoch 36/100\n",
            "15462/15462 [==============================] - 18s 1ms/sample - loss: 3.1424 - acc: 0.3880\n",
            "Epoch 37/100\n",
            "15462/15462 [==============================] - 18s 1ms/sample - loss: 3.0519 - acc: 0.4036\n",
            "Epoch 38/100\n",
            "15462/15462 [==============================] - 19s 1ms/sample - loss: 2.9777 - acc: 0.4196\n",
            "Epoch 39/100\n",
            "15462/15462 [==============================] - 18s 1ms/sample - loss: 2.9070 - acc: 0.4396\n",
            "Epoch 40/100\n",
            "15462/15462 [==============================] - 18s 1ms/sample - loss: 2.8333 - acc: 0.4529\n",
            "Epoch 41/100\n",
            "15462/15462 [==============================] - 18s 1ms/sample - loss: 2.7757 - acc: 0.4656\n",
            "Epoch 42/100\n",
            "15462/15462 [==============================] - 18s 1ms/sample - loss: 2.7025 - acc: 0.4810\n",
            "Epoch 43/100\n",
            "15462/15462 [==============================] - 19s 1ms/sample - loss: 2.6464 - acc: 0.4962\n",
            "Epoch 44/100\n",
            "15462/15462 [==============================] - 18s 1ms/sample - loss: 2.5755 - acc: 0.5118\n",
            "Epoch 45/100\n",
            "15462/15462 [==============================] - 19s 1ms/sample - loss: 2.5213 - acc: 0.5216\n",
            "Epoch 46/100\n",
            "15462/15462 [==============================] - 18s 1ms/sample - loss: 2.4693 - acc: 0.5349\n",
            "Epoch 47/100\n",
            "15462/15462 [==============================] - 18s 1ms/sample - loss: 2.4150 - acc: 0.5490\n",
            "Epoch 48/100\n",
            "15462/15462 [==============================] - 19s 1ms/sample - loss: 2.3637 - acc: 0.5603\n",
            "Epoch 49/100\n",
            "15462/15462 [==============================] - 19s 1ms/sample - loss: 2.3152 - acc: 0.5672\n",
            "Epoch 50/100\n",
            "15462/15462 [==============================] - 18s 1ms/sample - loss: 2.2682 - acc: 0.5799\n",
            "Epoch 51/100\n",
            "15462/15462 [==============================] - 19s 1ms/sample - loss: 2.2151 - acc: 0.5929\n",
            "Epoch 52/100\n",
            "15462/15462 [==============================] - 18s 1ms/sample - loss: 2.1694 - acc: 0.6032\n",
            "Epoch 53/100\n",
            "15462/15462 [==============================] - 18s 1ms/sample - loss: 2.1258 - acc: 0.6099\n",
            "Epoch 54/100\n",
            "15462/15462 [==============================] - 18s 1ms/sample - loss: 2.1003 - acc: 0.6206\n",
            "Epoch 55/100\n",
            "15462/15462 [==============================] - 19s 1ms/sample - loss: 2.0438 - acc: 0.6330\n",
            "Epoch 56/100\n",
            "15462/15462 [==============================] - 19s 1ms/sample - loss: 2.0086 - acc: 0.6384\n",
            "Epoch 57/100\n",
            "15462/15462 [==============================] - 18s 1ms/sample - loss: 1.9778 - acc: 0.6424\n",
            "Epoch 58/100\n",
            "15462/15462 [==============================] - 18s 1ms/sample - loss: 1.9446 - acc: 0.6497\n",
            "Epoch 59/100\n",
            "15462/15462 [==============================] - 19s 1ms/sample - loss: 1.9091 - acc: 0.6589\n",
            "Epoch 60/100\n",
            "15462/15462 [==============================] - 18s 1ms/sample - loss: 1.8676 - acc: 0.6663\n",
            "Epoch 61/100\n",
            "15462/15462 [==============================] - 18s 1ms/sample - loss: 1.8314 - acc: 0.6735\n",
            "Epoch 62/100\n",
            "15462/15462 [==============================] - 19s 1ms/sample - loss: 1.8035 - acc: 0.6823\n",
            "Epoch 63/100\n",
            "15462/15462 [==============================] - 18s 1ms/sample - loss: 1.7731 - acc: 0.6859\n",
            "Epoch 64/100\n",
            "15462/15462 [==============================] - 18s 1ms/sample - loss: 1.7435 - acc: 0.6945\n",
            "Epoch 65/100\n",
            "15462/15462 [==============================] - 19s 1ms/sample - loss: 1.7153 - acc: 0.6995\n",
            "Epoch 66/100\n",
            "15462/15462 [==============================] - 18s 1ms/sample - loss: 1.6933 - acc: 0.7017\n",
            "Epoch 67/100\n",
            "15462/15462 [==============================] - 18s 1ms/sample - loss: 1.6675 - acc: 0.7066\n",
            "Epoch 68/100\n",
            "15462/15462 [==============================] - 18s 1ms/sample - loss: 1.6581 - acc: 0.7088\n",
            "Epoch 69/100\n",
            "15462/15462 [==============================] - 18s 1ms/sample - loss: 1.6104 - acc: 0.7179\n",
            "Epoch 70/100\n",
            "15462/15462 [==============================] - 18s 1ms/sample - loss: 1.5884 - acc: 0.7234\n",
            "Epoch 71/100\n",
            "15462/15462 [==============================] - 19s 1ms/sample - loss: 1.5662 - acc: 0.7284\n",
            "Epoch 72/100\n",
            "15462/15462 [==============================] - 18s 1ms/sample - loss: 1.5543 - acc: 0.7295\n",
            "Epoch 73/100\n",
            "15462/15462 [==============================] - 18s 1ms/sample - loss: 1.5332 - acc: 0.7346\n",
            "Epoch 74/100\n",
            "15462/15462 [==============================] - 19s 1ms/sample - loss: 1.5153 - acc: 0.7392\n",
            "Epoch 75/100\n",
            "15462/15462 [==============================] - 18s 1ms/sample - loss: 1.4754 - acc: 0.7458\n",
            "Epoch 76/100\n",
            "15462/15462 [==============================] - 18s 1ms/sample - loss: 1.4602 - acc: 0.7497\n",
            "Epoch 77/100\n",
            "15462/15462 [==============================] - 18s 1ms/sample - loss: 1.4457 - acc: 0.7497\n",
            "Epoch 78/100\n",
            "15462/15462 [==============================] - 19s 1ms/sample - loss: 1.4294 - acc: 0.7537\n",
            "Epoch 79/100\n",
            "15462/15462 [==============================] - 19s 1ms/sample - loss: 1.4087 - acc: 0.7584\n",
            "Epoch 80/100\n",
            "15462/15462 [==============================] - 19s 1ms/sample - loss: 1.4068 - acc: 0.7536\n",
            "Epoch 81/100\n",
            "15462/15462 [==============================] - 18s 1ms/sample - loss: 1.3756 - acc: 0.7645\n",
            "Epoch 82/100\n",
            "15462/15462 [==============================] - 18s 1ms/sample - loss: 1.3593 - acc: 0.7668\n",
            "Epoch 83/100\n",
            "15462/15462 [==============================] - 18s 1ms/sample - loss: 1.3574 - acc: 0.7640\n",
            "Epoch 84/100\n",
            "15462/15462 [==============================] - 18s 1ms/sample - loss: 1.3242 - acc: 0.7707\n",
            "Epoch 85/100\n",
            "15462/15462 [==============================] - 18s 1ms/sample - loss: 1.3042 - acc: 0.7777\n",
            "Epoch 86/100\n",
            "15462/15462 [==============================] - 18s 1ms/sample - loss: 1.2904 - acc: 0.7824\n",
            "Epoch 87/100\n",
            "15462/15462 [==============================] - 19s 1ms/sample - loss: 1.2869 - acc: 0.7805\n",
            "Epoch 88/100\n",
            "15462/15462 [==============================] - 19s 1ms/sample - loss: 1.2633 - acc: 0.7855\n",
            "Epoch 89/100\n",
            "15462/15462 [==============================] - 18s 1ms/sample - loss: 1.2730 - acc: 0.7792\n",
            "Epoch 90/100\n",
            "15462/15462 [==============================] - 18s 1ms/sample - loss: 1.2443 - acc: 0.7848\n",
            "Epoch 91/100\n",
            "15462/15462 [==============================] - 18s 1ms/sample - loss: 1.2373 - acc: 0.7853\n",
            "Epoch 92/100\n",
            "15462/15462 [==============================] - 18s 1ms/sample - loss: 1.2318 - acc: 0.7871\n",
            "Epoch 93/100\n",
            "15462/15462 [==============================] - 19s 1ms/sample - loss: 1.2206 - acc: 0.7892\n",
            "Epoch 94/100\n",
            "15462/15462 [==============================] - 19s 1ms/sample - loss: 1.2037 - acc: 0.7922\n",
            "Epoch 95/100\n",
            "15462/15462 [==============================] - 19s 1ms/sample - loss: 1.1834 - acc: 0.7962\n",
            "Epoch 96/100\n",
            "15462/15462 [==============================] - 18s 1ms/sample - loss: 1.1773 - acc: 0.7959\n",
            "Epoch 97/100\n",
            "15462/15462 [==============================] - 18s 1ms/sample - loss: 1.1653 - acc: 0.7967\n",
            "Epoch 98/100\n",
            "15462/15462 [==============================] - 18s 1ms/sample - loss: 1.1570 - acc: 0.8029\n",
            "Epoch 99/100\n",
            "15462/15462 [==============================] - 18s 1ms/sample - loss: 1.1417 - acc: 0.8028\n",
            "Epoch 100/100\n",
            "15462/15462 [==============================] - 18s 1ms/sample - loss: 1.1295 - acc: 0.8047\n"
          ],
          "name": "stdout"
        }
      ]
    },
    {
      "cell_type": "code",
      "metadata": {
        "id": "1fXTEO3GJ282",
        "colab_type": "code",
        "colab": {
          "base_uri": "https://localhost:8080/",
          "height": 545
        },
        "outputId": "e358bab6-e124-40d4-ab57-bd4e4dfef35e"
      },
      "source": [
        "import matplotlib.pyplot as plt\n",
        "acc = history.history['acc']\n",
        "loss = history.history['loss']\n",
        "\n",
        "epochs = range(len(acc))\n",
        "\n",
        "plt.plot(epochs, acc, 'b', label='Training accuracy')\n",
        "plt.title('Training accuracy')\n",
        "\n",
        "plt.figure()\n",
        "\n",
        "plt.plot(epochs, loss, 'b', label='Training Loss')\n",
        "plt.title('Training loss')\n",
        "plt.legend()\n",
        "\n",
        "plt.show()"
      ],
      "execution_count": 5,
      "outputs": [
        {
          "output_type": "display_data",
          "data": {
            "image/png": "[encoded data removed]",
            "text/plain": [
              "<Figure size 432x288 with 1 Axes>"
            ]
          },
          "metadata": {
            "tags": []
          }
        },
        {
          "output_type": "display_data",
          "data": {
            "image/png": "[encoded data removed]",
            "text/plain": [
              "<Figure size 432x288 with 1 Axes>"
            ]
          },
          "metadata": {
            "tags": []
          }
        }
      ]
    },
    {
      "cell_type": "code",
      "metadata": {
        "id": "6Vc6PHgxa6Hm",
        "colab_type": "code",
        "colab": {
          "base_uri": "https://localhost:8080/",
          "height": 54
        },
        "outputId": "3e3282a2-cee4-40e8-d20e-05836a683dca"
      },
      "source": [
        "seed_text = \"Help me Obi Wan Kenobi, you're my only hope\"\n",
        "next_words = 100\n",
        "  \n",
        "for _ in range(next_words):\n",
        "\ttoken_list = tokenizer.texts_to_sequences([seed_text])[0]\n",
        "\ttoken_list = pad_sequences([token_list], maxlen=max_sequence_len-1, padding='pre')\n",
        "\tpredicted = model.predict_classes(token_list, verbose=0)\n",
        "\toutput_word = \"\"\n",
        "\tfor word, index in tokenizer.word_index.items():\n",
        "\t\tif index == predicted:\n",
        "\t\t\toutput_word = word\n",
        "\t\t\tbreak\n",
        "\tseed_text += \" \" + output_word\n",
        "print(seed_text)"
      ],
      "execution_count": 6,
      "outputs": [
        {
          "output_type": "stream",
          "text": [
            "Help me Obi Wan Kenobi, you're my only hope no one alone to stay dwell well survey ' so short and wrong quite allow clearer light quite light light light day away back back so dead flowers back anew with dust quite need cold cured cured ' so forth so skill faith men near call they know she so well hath my greatest part light brow back back back back back back again again back so perpetual warm'd crown'd doth grew me forth them old bright ' so live ' so bright do men rare forth forth bright we spent mother mother slain back back back back back back\n"
          ],
          "name": "stdout"
        }
      ]
    }
  ]
}