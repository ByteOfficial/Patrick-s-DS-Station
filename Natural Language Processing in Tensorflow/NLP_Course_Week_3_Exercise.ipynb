{
  "nbformat": 4,
  "nbformat_minor": 0,
  "metadata": {
    "colab": {
      "name": "NLP Course - Week 3 Exercise Answer.ipynb",
      "provenance": []
    },
    "kernelspec": {
      "name": "python3",
      "display_name": "Python 3"
    },
    "accelerator": "GPU"
  },
  "cells": [
    {
      "cell_type": "code",
      "metadata": {
        "id": "hmA6EzkQJ5jt",
        "colab_type": "code",
        "colab": {
          "base_uri": "https://localhost:8080/",
          "height": 80
        },
        "outputId": "92154544-62e7-4caf-d43b-4afbffd55066"
      },
      "source": [
        "import json\n",
        "import tensorflow as tf\n",
        "import csv\n",
        "import random\n",
        "import numpy as np\n",
        "\n",
        "from tensorflow.keras.preprocessing.text import Tokenizer\n",
        "from tensorflow.keras.preprocessing.sequence import pad_sequences\n",
        "from tensorflow.keras.utils import to_categorical\n",
        "from tensorflow.keras import regularizers\n",
        "\n",
        "\n",
        "embedding_dim = 100\n",
        "max_length = 16\n",
        "trunc_type='post'\n",
        "padding_type='post'\n",
        "oov_tok = \"<OOV>\"\n",
        "training_size=160000\n",
        "test_portion=.1\n",
        "\n",
        "corpus = []\n"
      ],
      "execution_count": 1,
      "outputs": [
        {
          "output_type": "display_data",
          "data": {
            "text/html": [
              "<p style=\"color: red;\">\n",
              "The default version of TensorFlow in Colab will soon switch to TensorFlow 2.x.<br>\n",
              "We recommend you <a href=\"https://www.tensorflow.org/guide/migrate\" target=\"_blank\">upgrade</a> now \n",
              "or ensure your notebook will continue to use TensorFlow 1.x via the <code>%tensorflow_version 1.x</code> magic:\n",
              "<a href=\"https://colab.research.google.com/notebooks/tensorflow_version.ipynb\" target=\"_blank\">more info</a>.</p>\n"
            ],
            "text/plain": [
              "<IPython.core.display.HTML object>"
            ]
          },
          "metadata": {
            "tags": []
          }
        }
      ]
    },
    {
      "cell_type": "code",
      "metadata": {
        "id": "bM0l_dORKqE0",
        "colab_type": "code",
        "outputId": "9ed0cf86-f4fd-41c9-bc4a-f31d7471f977",
        "colab": {
          "base_uri": "https://localhost:8080/",
          "height": 224
        }
      },
      "source": [
        "\n",
        "# Note that I cleaned the Stanford dataset to remove LATIN1 encoding to make it easier for Python CSV reader\n",
        "# You can do that yourself with:\n",
        "# iconv -f LATIN1 -t UTF8 training.1600000.processed.noemoticon.csv -o training_cleaned.csv\n",
        "# I then hosted it on my site to make it easier to use in this notebook\n",
        "\n",
        "!wget --no-check-certificate \\\n",
        "    https://storage.googleapis.com/laurencemoroney-blog.appspot.com/training_cleaned.csv \\\n",
        "    -O /tmp/training_cleaned.csv\n",
        "\n",
        "num_sentences = 0\n",
        "\n",
        "with open(\"/tmp/training_cleaned.csv\") as csvfile:\n",
        "    reader = csv.reader(csvfile, delimiter=',')\n",
        "    for row in reader:\n",
        "        list_item=[]\n",
        "        list_item.append(row[5])\n",
        "        this_label=row[0]\n",
        "        if this_label=='0':\n",
        "            list_item.append(0)\n",
        "        else:\n",
        "            list_item.append(1)\n",
        "        num_sentences = num_sentences + 1\n",
        "        corpus.append(list_item)\n",
        "\n",
        "\n"
      ],
      "execution_count": 2,
      "outputs": [
        {
          "output_type": "stream",
          "text": [
            "--2019-12-08 19:37:33--  https://storage.googleapis.com/laurencemoroney-blog.appspot.com/training_cleaned.csv\n",
            "Resolving storage.googleapis.com (storage.googleapis.com)... 64.233.166.128, 2a00:1450:400c:c08::80\n",
            "Connecting to storage.googleapis.com (storage.googleapis.com)|64.233.166.128|:443... connected.\n",
            "HTTP request sent, awaiting response... 200 OK\n",
            "Length: 238942690 (228M) [application/octet-stream]\n",
            "Saving to: ‘/tmp/training_cleaned.csv’\n",
            "\n",
            "/tmp/training_clean 100%[===================>] 227.87M  75.7MB/s    in 3.0s    \n",
            "\n",
            "2019-12-08 19:37:36 (75.7 MB/s) - ‘/tmp/training_cleaned.csv’ saved [238942690/238942690]\n",
            "\n"
          ],
          "name": "stdout"
        }
      ]
    },
    {
      "cell_type": "code",
      "metadata": {
        "id": "3kxblBUjEUX-",
        "colab_type": "code",
        "outputId": "2c622097-d6ef-4ecf-c14e-eee1e7c04180",
        "colab": {
          "base_uri": "https://localhost:8080/",
          "height": 88
        }
      },
      "source": [
        "print(num_sentences)\n",
        "print(len(corpus))\n",
        "print(corpus[1])\n"
      ],
      "execution_count": 3,
      "outputs": [
        {
          "output_type": "stream",
          "text": [
            "1600000\n",
            "1600000\n",
            "[\"is upset that he can't update his Facebook by texting it... and might cry as a result  School today also. Blah!\", 0]\n"
          ],
          "name": "stdout"
        }
      ]
    },
    {
      "cell_type": "code",
      "metadata": {
        "id": "ohOGz24lsNAD",
        "colab_type": "code",
        "colab": {}
      },
      "source": [
        "sentences=[]\n",
        "labels=[]\n",
        "random.shuffle(corpus)\n",
        "for x in range(training_size):\n",
        "    sentences.append(corpus[x][0])\n",
        "    labels.append(corpus[x][1])\n",
        "\n",
        "\n",
        "tokenizer = Tokenizer()\n",
        "tokenizer.fit_on_texts(sentences)\n",
        "\n",
        "word_index = tokenizer.word_index\n",
        "vocab_size=len(word_index)\n",
        "\n",
        "sequences = tokenizer.texts_to_sequences(sentences)\n",
        "padded = pad_sequences(sequences, maxlen=max_length, padding=padding_type, truncating=trunc_type)\n",
        "\n",
        "split = int(test_portion * training_size)\n",
        "\n",
        "test_sequences = padded[0:split]\n",
        "training_sequences = padded[split:training_size]\n",
        "test_labels = labels[0:split]\n",
        "training_labels = labels[split:training_size]"
      ],
      "execution_count": 0,
      "outputs": []
    },
    {
      "cell_type": "code",
      "metadata": {
        "id": "gIrtRem1En3N",
        "colab_type": "code",
        "outputId": "a5001d30-6693-4ffe-fdbf-8ca34fc66133",
        "colab": {
          "base_uri": "https://localhost:8080/",
          "height": 51
        }
      },
      "source": [
        "print(vocab_size)\n",
        "print(word_index['i'])\n"
      ],
      "execution_count": 5,
      "outputs": [
        {
          "output_type": "stream",
          "text": [
            "138464\n",
            "1\n"
          ],
          "name": "stdout"
        }
      ]
    },
    {
      "cell_type": "code",
      "metadata": {
        "id": "C1zdgJkusRh0",
        "colab_type": "code",
        "outputId": "18f2dd76-2a84-4921-c659-1687c2e0eb96",
        "colab": {
          "base_uri": "https://localhost:8080/",
          "height": 224
        }
      },
      "source": [
        "# Note this is the 100 dimension version of GloVe from Stanford\n",
        "# I unzipped and hosted it on my site to make this notebook easier\n",
        "!wget --no-check-certificate \\\n",
        "    https://storage.googleapis.com/laurencemoroney-blog.appspot.com/glove.6B.100d.txt \\\n",
        "    -O /tmp/glove.6B.100d.txt\n",
        "embeddings_index = {};\n",
        "with open('/tmp/glove.6B.100d.txt') as f:\n",
        "    for line in f:\n",
        "        values = line.split();\n",
        "        word = values[0];\n",
        "        coefs = np.asarray(values[1:], dtype='float32');\n",
        "        embeddings_index[word] = coefs;\n",
        "\n",
        "embeddings_matrix = np.zeros((vocab_size+1, embedding_dim));\n",
        "for word, i in word_index.items():\n",
        "    embedding_vector = embeddings_index.get(word);\n",
        "    if embedding_vector is not None:\n",
        "        embeddings_matrix[i] = embedding_vector;"
      ],
      "execution_count": 6,
      "outputs": [
        {
          "output_type": "stream",
          "text": [
            "--2019-12-08 19:38:16--  https://storage.googleapis.com/laurencemoroney-blog.appspot.com/glove.6B.100d.txt\n",
            "Resolving storage.googleapis.com (storage.googleapis.com)... 64.233.166.128, 2a00:1450:400c:c08::80\n",
            "Connecting to storage.googleapis.com (storage.googleapis.com)|64.233.166.128|:443... connected.\n",
            "HTTP request sent, awaiting response... 200 OK\n",
            "Length: 347116733 (331M) [text/plain]\n",
            "Saving to: ‘/tmp/glove.6B.100d.txt’\n",
            "\n",
            "/tmp/glove.6B.100d. 100%[===================>] 331.04M   102MB/s    in 3.2s    \n",
            "\n",
            "2019-12-08 19:38:19 (102 MB/s) - ‘/tmp/glove.6B.100d.txt’ saved [347116733/347116733]\n",
            "\n"
          ],
          "name": "stdout"
        }
      ]
    },
    {
      "cell_type": "code",
      "metadata": {
        "id": "71NLk_lpFLNt",
        "colab_type": "code",
        "outputId": "a1bb8098-b13d-41ce-d0e9-888174e32034",
        "colab": {
          "base_uri": "https://localhost:8080/",
          "height": 34
        }
      },
      "source": [
        "print(len(embeddings_matrix))\n"
      ],
      "execution_count": 7,
      "outputs": [
        {
          "output_type": "stream",
          "text": [
            "138465\n"
          ],
          "name": "stdout"
        }
      ]
    },
    {
      "cell_type": "code",
      "metadata": {
        "colab_type": "code",
        "id": "iKKvbuEBOGFz",
        "colab": {
          "base_uri": "https://localhost:8080/",
          "height": 1000
        },
        "outputId": "ef221daf-8dcf-4707-97bf-06f2f56746ca"
      },
      "source": [
        "model = tf.keras.Sequential([\n",
        "    tf.keras.layers.Embedding(vocab_size+1, embedding_dim, input_length=max_length, weights=[embeddings_matrix], trainable=False),\n",
        "    tf.keras.layers.Dropout(0.2),\n",
        "    tf.keras.layers.Conv1D(64, 5, activation='relu'),\n",
        "    tf.keras.layers.MaxPooling1D(pool_size=4),\n",
        "    tf.keras.layers.LSTM(64),\n",
        "    tf.keras.layers.Dense(1, activation='sigmoid')\n",
        "])\n",
        "model.compile(loss='binary_crossentropy',optimizer='adam',metrics=['accuracy'])\n",
        "model.summary()\n",
        "\n",
        "num_epochs = 50\n",
        "history = model.fit(training_sequences, training_labels, epochs=num_epochs, validation_data=(test_sequences, test_labels), verbose=2)\n",
        "\n",
        "print(\"Training Complete\")\n"
      ],
      "execution_count": 8,
      "outputs": [
        {
          "output_type": "stream",
          "text": [
            "WARNING:tensorflow:From /usr/local/lib/python3.6/dist-packages/tensorflow_core/python/keras/initializers.py:119: calling RandomUniform.__init__ (from tensorflow.python.ops.init_ops) with dtype is deprecated and will be removed in a future version.\n",
            "Instructions for updating:\n",
            "Call initializer instance with the dtype argument instead of passing it to the constructor\n",
            "WARNING:tensorflow:From /usr/local/lib/python3.6/dist-packages/tensorflow_core/python/ops/resource_variable_ops.py:1630: calling BaseResourceVariable.__init__ (from tensorflow.python.ops.resource_variable_ops) with constraint is deprecated and will be removed in a future version.\n",
            "Instructions for updating:\n",
            "If using Keras pass *_constraint arguments to layers.\n",
            "WARNING:tensorflow:From /usr/local/lib/python3.6/dist-packages/tensorflow_core/python/ops/nn_impl.py:183: where (from tensorflow.python.ops.array_ops) is deprecated and will be removed in a future version.\n",
            "Instructions for updating:\n",
            "Use tf.where in 2.0, which has the same broadcast rule as np.where\n",
            "Model: \"sequential\"\n",
            "_________________________________________________________________\n",
            "Layer (type)                 Output Shape              Param #   \n",
            "=================================================================\n",
            "embedding (Embedding)        (None, 16, 100)           13846500  \n",
            "_________________________________________________________________\n",
            "dropout (Dropout)            (None, 16, 100)           0         \n",
            "_________________________________________________________________\n",
            "conv1d (Conv1D)              (None, 12, 64)            32064     \n",
            "_________________________________________________________________\n",
            "max_pooling1d (MaxPooling1D) (None, 3, 64)             0         \n",
            "_________________________________________________________________\n",
            "lstm (LSTM)                  (None, 64)                33024     \n",
            "_________________________________________________________________\n",
            "dense (Dense)                (None, 1)                 65        \n",
            "=================================================================\n",
            "Total params: 13,911,653\n",
            "Trainable params: 65,153\n",
            "Non-trainable params: 13,846,500\n",
            "_________________________________________________________________\n",
            "Train on 144000 samples, validate on 16000 samples\n",
            "Epoch 1/50\n",
            "144000/144000 - 47s - loss: 0.5664 - acc: 0.7014 - val_loss: 0.5136 - val_acc: 0.7436\n",
            "Epoch 2/50\n",
            "144000/144000 - 43s - loss: 0.5267 - acc: 0.7325 - val_loss: 0.5014 - val_acc: 0.7555\n",
            "Epoch 3/50\n",
            "144000/144000 - 43s - loss: 0.5089 - acc: 0.7452 - val_loss: 0.4929 - val_acc: 0.7610\n",
            "Epoch 4/50\n",
            "144000/144000 - 44s - loss: 0.4989 - acc: 0.7525 - val_loss: 0.4997 - val_acc: 0.7521\n",
            "Epoch 5/50\n",
            "144000/144000 - 45s - loss: 0.4914 - acc: 0.7576 - val_loss: 0.4963 - val_acc: 0.7571\n",
            "Epoch 6/50\n",
            "144000/144000 - 43s - loss: 0.4844 - acc: 0.7612 - val_loss: 0.4904 - val_acc: 0.7612\n",
            "Epoch 7/50\n",
            "144000/144000 - 44s - loss: 0.4788 - acc: 0.7651 - val_loss: 0.4869 - val_acc: 0.7657\n",
            "Epoch 8/50\n",
            "144000/144000 - 44s - loss: 0.4734 - acc: 0.7687 - val_loss: 0.4919 - val_acc: 0.7586\n",
            "Epoch 9/50\n",
            "144000/144000 - 44s - loss: 0.4703 - acc: 0.7699 - val_loss: 0.4849 - val_acc: 0.7624\n",
            "Epoch 10/50\n",
            "144000/144000 - 44s - loss: 0.4663 - acc: 0.7732 - val_loss: 0.4898 - val_acc: 0.7617\n",
            "Epoch 11/50\n",
            "144000/144000 - 44s - loss: 0.4642 - acc: 0.7743 - val_loss: 0.4869 - val_acc: 0.7641\n",
            "Epoch 12/50\n",
            "144000/144000 - 44s - loss: 0.4604 - acc: 0.7766 - val_loss: 0.4914 - val_acc: 0.7610\n",
            "Epoch 13/50\n",
            "144000/144000 - 44s - loss: 0.4573 - acc: 0.7783 - val_loss: 0.4916 - val_acc: 0.7629\n",
            "Epoch 14/50\n",
            "144000/144000 - 44s - loss: 0.4538 - acc: 0.7801 - val_loss: 0.4943 - val_acc: 0.7609\n",
            "Epoch 15/50\n",
            "144000/144000 - 44s - loss: 0.4526 - acc: 0.7828 - val_loss: 0.4931 - val_acc: 0.7654\n",
            "Epoch 16/50\n",
            "144000/144000 - 44s - loss: 0.4516 - acc: 0.7831 - val_loss: 0.4942 - val_acc: 0.7620\n",
            "Epoch 17/50\n",
            "144000/144000 - 44s - loss: 0.4495 - acc: 0.7845 - val_loss: 0.4924 - val_acc: 0.7631\n",
            "Epoch 18/50\n",
            "144000/144000 - 44s - loss: 0.4476 - acc: 0.7849 - val_loss: 0.4914 - val_acc: 0.7626\n",
            "Epoch 19/50\n",
            "144000/144000 - 45s - loss: 0.4466 - acc: 0.7860 - val_loss: 0.4936 - val_acc: 0.7604\n",
            "Epoch 20/50\n",
            "144000/144000 - 44s - loss: 0.4443 - acc: 0.7866 - val_loss: 0.4967 - val_acc: 0.7617\n",
            "Epoch 21/50\n",
            "144000/144000 - 44s - loss: 0.4438 - acc: 0.7871 - val_loss: 0.4962 - val_acc: 0.7626\n",
            "Epoch 22/50\n",
            "144000/144000 - 44s - loss: 0.4442 - acc: 0.7869 - val_loss: 0.4922 - val_acc: 0.7636\n",
            "Epoch 23/50\n",
            "144000/144000 - 44s - loss: 0.4403 - acc: 0.7897 - val_loss: 0.4984 - val_acc: 0.7608\n",
            "Epoch 24/50\n",
            "144000/144000 - 44s - loss: 0.4399 - acc: 0.7898 - val_loss: 0.4960 - val_acc: 0.7626\n",
            "Epoch 25/50\n",
            "144000/144000 - 44s - loss: 0.4400 - acc: 0.7889 - val_loss: 0.4991 - val_acc: 0.7644\n",
            "Epoch 26/50\n",
            "144000/144000 - 44s - loss: 0.4404 - acc: 0.7895 - val_loss: 0.5010 - val_acc: 0.7532\n",
            "Epoch 27/50\n",
            "144000/144000 - 44s - loss: 0.4388 - acc: 0.7890 - val_loss: 0.5010 - val_acc: 0.7613\n",
            "Epoch 28/50\n",
            "144000/144000 - 44s - loss: 0.4380 - acc: 0.7896 - val_loss: 0.4959 - val_acc: 0.7624\n",
            "Epoch 29/50\n",
            "144000/144000 - 44s - loss: 0.4376 - acc: 0.7919 - val_loss: 0.4994 - val_acc: 0.7635\n",
            "Epoch 30/50\n",
            "144000/144000 - 44s - loss: 0.4364 - acc: 0.7912 - val_loss: 0.4989 - val_acc: 0.7594\n",
            "Epoch 31/50\n",
            "144000/144000 - 44s - loss: 0.4361 - acc: 0.7911 - val_loss: 0.5001 - val_acc: 0.7635\n",
            "Epoch 32/50\n",
            "144000/144000 - 44s - loss: 0.4369 - acc: 0.7916 - val_loss: 0.5062 - val_acc: 0.7576\n",
            "Epoch 33/50\n",
            "144000/144000 - 44s - loss: 0.4349 - acc: 0.7926 - val_loss: 0.4993 - val_acc: 0.7628\n",
            "Epoch 34/50\n",
            "144000/144000 - 44s - loss: 0.4351 - acc: 0.7917 - val_loss: 0.5016 - val_acc: 0.7628\n",
            "Epoch 35/50\n",
            "144000/144000 - 44s - loss: 0.4329 - acc: 0.7941 - val_loss: 0.5032 - val_acc: 0.7577\n",
            "Epoch 36/50\n",
            "144000/144000 - 44s - loss: 0.4333 - acc: 0.7925 - val_loss: 0.4995 - val_acc: 0.7601\n",
            "Epoch 37/50\n",
            "144000/144000 - 44s - loss: 0.4335 - acc: 0.7932 - val_loss: 0.5052 - val_acc: 0.7651\n",
            "Epoch 38/50\n",
            "144000/144000 - 44s - loss: 0.4318 - acc: 0.7942 - val_loss: 0.5034 - val_acc: 0.7596\n",
            "Epoch 39/50\n",
            "144000/144000 - 44s - loss: 0.4320 - acc: 0.7954 - val_loss: 0.5022 - val_acc: 0.7593\n",
            "Epoch 40/50\n",
            "144000/144000 - 44s - loss: 0.4317 - acc: 0.7941 - val_loss: 0.5017 - val_acc: 0.7582\n",
            "Epoch 41/50\n",
            "144000/144000 - 43s - loss: 0.4310 - acc: 0.7953 - val_loss: 0.5058 - val_acc: 0.7576\n",
            "Epoch 42/50\n",
            "144000/144000 - 43s - loss: 0.4312 - acc: 0.7945 - val_loss: 0.5066 - val_acc: 0.7580\n",
            "Epoch 43/50\n",
            "144000/144000 - 43s - loss: 0.4312 - acc: 0.7944 - val_loss: 0.5040 - val_acc: 0.7550\n",
            "Epoch 44/50\n",
            "144000/144000 - 44s - loss: 0.4301 - acc: 0.7954 - val_loss: 0.5119 - val_acc: 0.7564\n",
            "Epoch 45/50\n",
            "144000/144000 - 44s - loss: 0.4310 - acc: 0.7953 - val_loss: 0.5032 - val_acc: 0.7596\n",
            "Epoch 46/50\n",
            "144000/144000 - 44s - loss: 0.4321 - acc: 0.7949 - val_loss: 0.5083 - val_acc: 0.7552\n",
            "Epoch 47/50\n",
            "144000/144000 - 44s - loss: 0.4312 - acc: 0.7954 - val_loss: 0.5102 - val_acc: 0.7575\n",
            "Epoch 48/50\n",
            "144000/144000 - 44s - loss: 0.4302 - acc: 0.7949 - val_loss: 0.5090 - val_acc: 0.7579\n",
            "Epoch 49/50\n",
            "144000/144000 - 44s - loss: 0.4302 - acc: 0.7955 - val_loss: 0.5049 - val_acc: 0.7600\n",
            "Epoch 50/50\n",
            "144000/144000 - 44s - loss: 0.4298 - acc: 0.7955 - val_loss: 0.5077 - val_acc: 0.7581\n",
            "Training Complete\n"
          ],
          "name": "stdout"
        }
      ]
    },
    {
      "cell_type": "code",
      "metadata": {
        "id": "qxju4ItJKO8F",
        "colab_type": "code",
        "colab": {
          "base_uri": "https://localhost:8080/",
          "height": 607
        },
        "outputId": "9a32e1e2-b6bd-4d08-8c1e-280137917ca3"
      },
      "source": [
        "import matplotlib.image  as mpimg\n",
        "import matplotlib.pyplot as plt\n",
        "\n",
        "#-----------------------------------------------------------\n",
        "# Retrieve a list of list results on training and test data\n",
        "# sets for each training epoch\n",
        "#-----------------------------------------------------------\n",
        "acc=history.history['acc']\n",
        "val_acc=history.history['val_acc']\n",
        "loss=history.history['loss']\n",
        "val_loss=history.history['val_loss']\n",
        "\n",
        "epochs=range(len(acc)) # Get number of epochs\n",
        "\n",
        "#------------------------------------------------\n",
        "# Plot training and validation accuracy per epoch\n",
        "#------------------------------------------------\n",
        "plt.plot(epochs, acc, 'r')\n",
        "plt.plot(epochs, val_acc, 'b')\n",
        "plt.title('Training and validation accuracy')\n",
        "plt.xlabel(\"Epochs\")\n",
        "plt.ylabel(\"Accuracy\")\n",
        "plt.legend([\"Accuracy\", \"Validation Accuracy\"])\n",
        "\n",
        "plt.figure()\n",
        "\n",
        "#------------------------------------------------\n",
        "# Plot training and validation loss per epoch\n",
        "#------------------------------------------------\n",
        "plt.plot(epochs, loss, 'r')\n",
        "plt.plot(epochs, val_loss, 'b')\n",
        "plt.title('Training and validation loss')\n",
        "plt.xlabel(\"Epochs\")\n",
        "plt.ylabel(\"Loss\")\n",
        "plt.legend([\"Loss\", \"Validation Loss\"])\n",
        "\n",
        "plt.figure()\n",
        "\n",
        "\n",
        "# \n",
        "# A chart where the validation loss does not increase sharply!"
      ],
      "execution_count": 9,
      "outputs": [
        {
          "output_type": "execute_result",
          "data": {
            "text/plain": [
              "<Figure size 432x288 with 0 Axes>"
            ]
          },
          "metadata": {
            "tags": []
          },
          "execution_count": 9
        },
        {
          "output_type": "display_data",
          "data": {
            "image/png": "[encoded data removed]",
            "text/plain": [
              "<Figure size 432x288 with 1 Axes>"
            ]
          },
          "metadata": {
            "tags": []
          }
        },
        {
          "output_type": "display_data",
          "data": {
            "image/png": "[encoded data removed]",
            "text/plain": [
              "<Figure size 432x288 with 1 Axes>"
            ]
          },
          "metadata": {
            "tags": []
          }
        },
        {
          "output_type": "display_data",
          "data": {
            "text/plain": [
              "<Figure size 432x288 with 0 Axes>"
            ]
          },
          "metadata": {
            "tags": []
          }
        }
      ]
    }
  ]
}