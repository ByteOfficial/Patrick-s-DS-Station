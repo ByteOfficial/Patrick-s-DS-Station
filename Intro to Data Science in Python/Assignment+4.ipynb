{
 "cells": [
  {
   "cell_type": "markdown",
   "metadata": {},
   "source": [
    "---\n",
    "\n",
    "_You are currently looking at **version 1.1** of this notebook. To download notebooks and datafiles, as well as get help on Jupyter notebooks in the Coursera platform, visit the [Jupyter Notebook FAQ](https://www.coursera.org/learn/python-data-analysis/resources/0dhYG) course resource._\n",
    "\n",
    "---"
   ]
  },
  {
   "cell_type": "code",
   "execution_count": null,
   "metadata": {
    "collapsed": true
   },
   "outputs": [],
   "source": [
    "import pandas as pd\n",
    "import numpy as np\n",
    "from scipy.stats import ttest_ind"
   ]
  },
  {
   "cell_type": "markdown",
   "metadata": {},
   "source": [
    "# Assignment 4 - Hypothesis Testing\n",
    "This assignment requires more individual learning than previous assignments - you are encouraged to check out the [pandas documentation](http://pandas.pydata.org/pandas-docs/stable/) to find functions or methods you might not have used yet, or ask questions on [Stack Overflow](http://stackoverflow.com/) and tag them as pandas and python related. And of course, the discussion forums are open for interaction with your peers and the course staff.\n",
    "\n",
    "Definitions:\n",
    "* A _quarter_ is a specific three month period, Q1 is January through March, Q2 is April through June, Q3 is July through September, Q4 is October through December.\n",
    "* A _recession_ is defined as starting with two consecutive quarters of GDP decline, and ending with two consecutive quarters of GDP growth.\n",
    "* A _recession bottom_ is the quarter within a recession which had the lowest GDP.\n",
    "* A _university town_ is a city which has a high percentage of university students compared to the total population of the city.\n",
    "\n",
    "**Hypothesis**: University towns have their mean housing prices less effected by recessions. Run a t-test to compare the ratio of the mean price of houses in university towns the quarter before the recession starts compared to the recession bottom. (`price_ratio=quarter_before_recession/recession_bottom`)\n",
    "\n",
    "The following data files are available for this assignment:\n",
    "* From the [Zillow research data site](http://www.zillow.com/research/data/) there is housing data for the United States. In particular the datafile for [all homes at a city level](http://files.zillowstatic.com/research/public/City/City_Zhvi_AllHomes.csv), ```City_Zhvi_AllHomes.csv```, has median home sale prices at a fine grained level.\n",
    "* From the Wikipedia page on college towns is a list of [university towns in the United States](https://en.wikipedia.org/wiki/List_of_college_towns#College_towns_in_the_United_States) which has been copy and pasted into the file ```university_towns.txt```.\n",
    "* From Bureau of Economic Analysis, US Department of Commerce, the [GDP over time](http://www.bea.gov/national/index.htm#gdp) of the United States in current dollars (use the chained value in 2009 dollars), in quarterly intervals, in the file ```gdplev.xls```. For this assignment, only look at GDP data from the first quarter of 2000 onward.\n",
    "\n",
    "Each function in this assignment below is worth 10%, with the exception of ```run_ttest()```, which is worth 50%."
   ]
  },
  {
   "cell_type": "code",
   "execution_count": null,
   "metadata": {
    "collapsed": true
   },
   "outputs": [],
   "source": [
    "# Use this dictionary to map state names to two letter acronyms\n",
    "states = {'OH': 'Ohio', 'KY': 'Kentucky', 'AS': 'American Samoa', 'NV': 'Nevada', 'WY': 'Wyoming', 'NA': 'National', 'AL': 'Alabama', 'MD': 'Maryland', 'AK': 'Alaska', 'UT': 'Utah', 'OR': 'Oregon', 'MT': 'Montana', 'IL': 'Illinois', 'TN': 'Tennessee', 'DC': 'District of Columbia', 'VT': 'Vermont', 'ID': 'Idaho', 'AR': 'Arkansas', 'ME': 'Maine', 'WA': 'Washington', 'HI': 'Hawaii', 'WI': 'Wisconsin', 'MI': 'Michigan', 'IN': 'Indiana', 'NJ': 'New Jersey', 'AZ': 'Arizona', 'GU': 'Guam', 'MS': 'Mississippi', 'PR': 'Puerto Rico', 'NC': 'North Carolina', 'TX': 'Texas', 'SD': 'South Dakota', 'MP': 'Northern Mariana Islands', 'IA': 'Iowa', 'MO': 'Missouri', 'CT': 'Connecticut', 'WV': 'West Virginia', 'SC': 'South Carolina', 'LA': 'Louisiana', 'KS': 'Kansas', 'NY': 'New York', 'NE': 'Nebraska', 'OK': 'Oklahoma', 'FL': 'Florida', 'CA': 'California', 'CO': 'Colorado', 'PA': 'Pennsylvania', 'DE': 'Delaware', 'NM': 'New Mexico', 'RI': 'Rhode Island', 'MN': 'Minnesota', 'VI': 'Virgin Islands', 'NH': 'New Hampshire', 'MA': 'Massachusetts', 'GA': 'Georgia', 'ND': 'North Dakota', 'VA': 'Virginia'}"
   ]
  },
  {
   "cell_type": "code",
   "execution_count": null,
   "metadata": {
    "collapsed": true,
    "umich_part_id": "021",
    "umich_partlist_id": "004"
   },
   "outputs": [],
   "source": [
    "def get_list_of_university_towns():\n",
    "    '''Returns a DataFrame of towns and the states they are in from the \n",
    "    university_towns.txt list. The format of the DataFrame should be:\n",
    "    DataFrame( [ [\"Michigan\", \"Ann Arbor\"], [\"Michigan\", \"Yipsilanti\"] ], \n",
    "    columns=[\"State\", \"RegionName\"]  )\n",
    "    \n",
    "    The following cleaning needs to be done:\n",
    "\n",
    "    1. For \"State\", removing characters from \"[\" to the end.\n",
    "    2. For \"RegionName\", when applicable, removing every character from \" (\" to the end.\n",
    "    3. Depending on how you read the data, you may need to remove newline character '\\n'. '''\n",
    "    \n",
    "    import pandas as pd\n",
    "    import numpy as np\n",
    "    lines = open('university_towns.txt').readlines()\n",
    "    \n",
    "    State=\"\"\n",
    "    Region=\"\"\n",
    "    row=[]\n",
    "    \n",
    "    for i in lines:\n",
    "        if '[edit]' in i:\n",
    "            \n",
    "            State=i.split('[')[0]\n",
    "            #State.append(i.split('[')[0])\n",
    "            \n",
    "             \n",
    "        else :\n",
    "            \n",
    "            Region=i.split('(')[0].strip('\\n').strip(' ') \n",
    "            #Region.append(i.split('(')[0].strip('\\n')) \n",
    "            row.append([State,Region])\n",
    "            \n",
    "    df= pd.DataFrame(row, columns=['State', 'RegionName'])\n",
    "            \n",
    "    return df"
   ]
  },
  {
   "cell_type": "code",
   "execution_count": null,
   "metadata": {
    "collapsed": true,
    "umich_part_id": "022",
    "umich_partlist_id": "004"
   },
   "outputs": [],
   "source": [
    "def get_recession_start():\n",
    "    '''Returns the year adef get_recession_start():\n",
    "    '''Returns the year and quarter of the recession start time as a \n",
    "    string value in a format such as 2005q3'''\n",
    "    \n",
    "    import pandas as pd\n",
    "    import numpy as np\n",
    "    df=pd.read_excel('gdplev.xls',skiprows=220,header=None,parse_cols = \"E,G\")\n",
    "    df.columns=[\"Quarterly\",\"GDP chained 2009\"]\n",
    "    for i in range(2, len(df)):\n",
    "        if ((df.iloc[i-2][1] > df.iloc[i-1][1]) and (df.iloc[i-1][1] > df.iloc[i][1])):\n",
    "            return df.iloc[i-1][0]\n",
    "    #df[\"Test\"] = df['GDP chained 2009'].shift(1)\n",
    "    #df['Diff']=df[\"GDP chained 2009\"]-df[\"Test\"]\n",
    "    #df[\"Test1\"] = df['Diff'].shift(1)\n",
    "    #df[\"Trend\"]= np.where(df['Test1']<0, 'Decrease', 'Increase')\n",
    "    \n",
    "    \n",
    "    #start=[]\n",
    "    #for i in df[df.Trend == \"Decrease\"].index:\n",
    "       # if df.iloc[i-1].Trend != \"Decrease\" and df.iloc[i-1].Trend != \"Increase\":\n",
    "         #   start.append(i-1)\n",
    "   # res = df.iloc[start][[\"Quarterly\"]]\n",
    "   # return res\n",
    "    #print (df)\n",
    "    #a= np.where(df['Trend']=='Decrease')   \n",
    "    #return a\n",
    "​nd quarter of the recession start time as a \n",
    "    string value in a format such as 2005q3'''\n",
    "    \n",
    "    return \"ANSWER\""
   ]
  },
  {
   "cell_type": "code",
   "execution_count": null,
   "metadata": {
    "collapsed": true,
    "umich_part_id": "023",
    "umich_partlist_id": "004"
   },
   "outputs": [],
   "source": [
    "def get_recession_end():\n",
    "    '''Returns the year and quarter of the recession end time as a \n",
    "    string value in a format such as 2005q3'''\n",
    "    \n",
    "    import pandas as pd\n",
    "    import numpy as np\n",
    "    df=pd.read_excel('gdplev.xls',skiprows=220,header=None,parse_cols = \"E,G\")\n",
    "    df.columns=[\"Quarterly\",\"GDP chained 2009\"]\n",
    "    for i in range(2, len(df)):\n",
    "        if ((df.iloc[i-2][1] > df.iloc[i-1][1]) and (df.iloc[i-1][1] > df.iloc[i][1])):\n",
    "            #a=df.iloc[i-1][0]\n",
    "            #return a\n",
    "            for j in range(i-1, len(df)):\n",
    "                if ((df.iloc[j-2][1] < df.iloc[j-1][1]) and (df.iloc[j-1][1] < df.iloc[j][1])):\n",
    "                    return df.iloc[j][0]"
   ]
  },
  {
   "cell_type": "code",
   "execution_count": null,
   "metadata": {
    "collapsed": true,
    "umich_part_id": "024",
    "umich_partlist_id": "004"
   },
   "outputs": [],
   "source": [
    "def get_recession_bottom():\n",
    "    '''Returns the year and quarter of the recession bottom time as a \n",
    "    string value in a format such as 2005q3'''\n",
    "    \n",
    "    import pandas as pd\n",
    "    import numpy as np\n",
    "    df=pd.read_excel('gdplev.xls',skiprows=220,header=None,parse_cols = \"E,G\")\n",
    "    df.columns=[\"Quarterly\",\"GDP chained 2009\"]\n",
    "    for i in range(2, len(df)):\n",
    "        if ((df.iloc[i-2][1] > df.iloc[i-1][1]) and (df.iloc[i-1][1] > df.iloc[i][1])):\n",
    "            #a=df.iloc[i-1][0]\n",
    "            #return a\n",
    "            for j in range(i-1, len(df)):\n",
    "                if ((df.iloc[j-2][1] < df.iloc[j-1][1]) and (df.iloc[j-1][1] < df.iloc[j][1])):\n",
    "                    #return df.iloc[j][0]\n",
    "                    \n",
    "                    #for x in range(i-1,j):\n",
    "                            \n",
    "                            #return df.iloc[x][0]\n",
    "                            a=min(df.iloc[i-1:j,1])\n",
    "                            return df.loc[df[\"GDP chained 2009\"]==a]['Quarterly'].values[0]\n",
    "get_recession_bottom() "
   ]
  },
  {
   "cell_type": "code",
   "execution_count": null,
   "metadata": {
    "collapsed": true,
    "umich_part_id": "025",
    "umich_partlist_id": "004"
   },
   "outputs": [],
   "source": [
    "def convert_housing_data_to_quarters():\n",
    "    '''Converts the housing data to quarters and returns it as mean \n",
    "    values in a dataframe. This dataframe should be a dataframe with\n",
    "    columns for 2000q1 through 2016q3, and should have a multi-index\n",
    "    in the shape of [\"State\",\"RegionName\"].\n",
    "    \n",
    "    Note: Quarters are defined in the assignment description, they are\n",
    "    not arbitrary three month periods.\n",
    "    \n",
    "    The resulting dataframe should have 67 columns, and 10,730 rows.\n",
    "    '''\n",
    "    import pandas as pd\n",
    "    import numpy as np\n",
    "    df=pd.read_csv('City_Zhvi_AllHomes.csv')\n",
    "    # Use this dictionary to map state names to two letter acronyms\n",
    "    states = {'OH': 'Ohio', 'KY': 'Kentucky', 'AS': 'American Samoa', 'NV': 'Nevada', 'WY': 'Wyoming', 'NA': 'National', 'AL': 'Alabama', 'MD': 'Maryland', 'AK': 'Alaska', 'UT': 'Utah', 'OR': 'Oregon', 'MT': 'Montana', 'IL': 'Illinois', 'TN': 'Tennessee', 'DC': 'District of Columbia', 'VT': 'Vermont', 'ID': 'Idaho', 'AR': 'Arkansas', 'ME': 'Maine', 'WA': 'Washington', 'HI': 'Hawaii', 'WI': 'Wisconsin', 'MI': 'Michigan', 'IN': 'Indiana', 'NJ': 'New Jersey', 'AZ': 'Arizona', 'GU': 'Guam', 'MS': 'Mississippi', 'PR': 'Puerto Rico', 'NC': 'North Carolina', 'TX': 'Texas', 'SD': 'South Dakota', 'MP': 'Northern Mariana Islands', 'IA': 'Iowa', 'MO': 'Missouri', 'CT': 'Connecticut', 'WV': 'West Virginia', 'SC': 'South Carolina', 'LA': 'Louisiana', 'KS': 'Kansas', 'NY': 'New York', 'NE': 'Nebraska', 'OK': 'Oklahoma', 'FL': 'Florida', 'CA': 'California', 'CO': 'Colorado', 'PA': 'Pennsylvania', 'DE': 'Delaware', 'NM': 'New Mexico', 'RI': 'Rhode Island', 'MN': 'Minnesota', 'VI': 'Virgin Islands', 'NH': 'New Hampshire', 'MA': 'Massachusetts', 'GA': 'Georgia', 'ND': 'North Dakota', 'VA': 'Virginia'}\n",
    "    df['State'] = df['State'].map(states)\n",
    "    df=df.set_index(['State','RegionName'])\n",
    "    df=df.loc[:,'2000-01':'2016-08']\n",
    "    df.columns = pd.to_datetime(df.columns)\n",
    "    df = df.resample('Q',axis=1).mean() \n",
    "    df.columns= df.columns.to_period('Q').strftime('%Yq%q')\n",
    "   \n",
    "    return df"
   ]
  },
  {
   "cell_type": "code",
   "execution_count": null,
   "metadata": {
    "collapsed": true,
    "umich_part_id": "026",
    "umich_partlist_id": "004"
   },
   "outputs": [],
   "source": [
    "def run_ttest():\n",
    "    '''First creates new data showing the decline or growth of housing prices\n",
    "    between the recession start and the recession bottom. Then runs a ttest\n",
    "    comparing the university town values to the non-university towns values, \n",
    "    return whether the alternative hypothesis (that the two groups are the same)\n",
    "    is true or not as well as the p-value of the confidence. \n",
    "    \n",
    "    Return the tuple (different, p, better) where different=True if the t-test is\n",
    "    True at a p<0.01 (we reject the null hypothesis), or different=False if \n",
    "    otherwise (we cannot reject the null hypothesis). The variable p should\n",
    "    be equal to the exact p value returned from scipy.stats.ttest_ind(). The\n",
    "    value for better should be either \"university town\" or \"non-university town\"\n",
    "    depending on which has a lower mean price ratio (which is equivilent to a\n",
    "    reduced market loss).'''\n",
    "    \n",
    "    start=get_recession_start()\n",
    "    bottom= get_recession_bottom()\n",
    "    housing_data = convert_housing_data_to_quarters()\n",
    "    housing_data = housing_data.loc[:, start: bottom]\n",
    "    housing_data.reset_index(inplace=True)\n",
    "    housing_data['Ratio'] = (housing_data[start] - housing_data[bottom]) / housing_data[start]\n",
    "    uni_towns=get_list_of_university_towns()\n",
    "    uni_townslist=uni_towns['RegionName'].tolist()\n",
    "    housing_data['UniTowns']= housing_data.RegionName.apply(lambda x: x in uni_townslist)\n",
    "    uni_data = housing_data[housing_data.UniTowns].copy().dropna()\n",
    "    not_uni_data = housing_data[~housing_data.UniTowns].copy().dropna()\n",
    "    p = ttest_ind(uni_data['Ratio'], not_uni_data['Ratio'])[1]\n",
    "    \n",
    "    different = p < 0.01   \n",
    "    a = 'University Town' if uni_data['Ratio'].mean() < not_uni_data['Ratio'].mean() else 'Non-University Town'\n",
    "\n",
    "    return (different, p, a)\n",
    "    \n",
    "run_ttest()\n",
    "(True, 0.00036641601595526971, 'University Town')"
   ]
  }
 ],
 "metadata": {
  "coursera": {
   "course_slug": "python-data-analysis",
   "graded_item_id": "Il9Fx",
   "launcher_item_id": "TeDW0",
   "part_id": "WGlun"
  },
  "kernelspec": {
   "display_name": "Python 3",
   "language": "python",
   "name": "python3"
  },
  "language_info": {
   "codemirror_mode": {
    "name": "ipython",
    "version": 3
   },
   "file_extension": ".py",
   "mimetype": "text/x-python",
   "name": "python",
   "nbconvert_exporter": "python",
   "pygments_lexer": "ipython3",
   "version": "3.6.2"
  },
  "umich": {
   "id": "Assignment 4",
   "version": "1.1"
  }
 },
 "nbformat": 4,
 "nbformat_minor": 1
}
