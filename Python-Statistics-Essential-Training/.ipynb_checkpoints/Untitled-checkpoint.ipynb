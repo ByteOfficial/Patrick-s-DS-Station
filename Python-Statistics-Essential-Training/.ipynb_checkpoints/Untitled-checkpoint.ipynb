{
 "cells": [
  {
   "cell_type": "code",
   "execution_count": 1,
   "metadata": {},
   "outputs": [
    {
     "name": "stdout",
     "output_type": "stream",
     "text": [
      "10\n",
      "10\n",
      "10\n",
      "10\n",
      "10\n",
      "15\n",
      "42\n",
      "quit\n"
     ]
    }
   ],
   "source": [
    "while True:\n",
    "    try:\n",
    "        num = int(input())\n",
    "        data = []\n",
    "        for i in range(num):\n",
    "            data.append(int(input()))\n",
    "        data = list(set(data))\n",
    "        data = sorted(data)\n",
    "        for i in data:\n",
    "            print(i)\n",
    "    except:\n",
    "        break\n",
    "        "
   ]
  },
  {
   "cell_type": "code",
   "execution_count": 8,
   "metadata": {},
   "outputs": [
    {
     "name": "stdout",
     "output_type": "stream",
     "text": [
      "boy\n",
      "a\n",
      "am\n",
      "i\n"
     ]
    }
   ],
   "source": [
    "a = 'i am a boy'\n",
    "a1 = a.split(' ')\n",
    "c = len(a1)\n",
    "b = []\n",
    "for i in range(c):\n",
    "    b.append(a1[i])\n",
    "for i in (b[::-1]):\n",
    "    print(i)"
   ]
  },
  {
   "cell_type": "code",
   "execution_count": 4,
   "metadata": {},
   "outputs": [],
   "source": [
    "a = 'i am a boy'\n",
    "c = len(a.split(' '))"
   ]
  },
  {
   "cell_type": "code",
   "execution_count": 5,
   "metadata": {},
   "outputs": [
    {
     "data": {
      "text/plain": [
       "4"
      ]
     },
     "execution_count": 5,
     "metadata": {},
     "output_type": "execute_result"
    }
   ],
   "source": [
    "c"
   ]
  },
  {
   "cell_type": "code",
   "execution_count": 14,
   "metadata": {},
   "outputs": [
    {
     "name": "stdout",
     "output_type": "stream",
     "text": [
      "i am a a \n"
     ]
    },
    {
     "ename": "IndexError",
     "evalue": "list index out of range",
     "output_type": "error",
     "traceback": [
      "\u001b[0;31m---------------------------------------------------------------------------\u001b[0m",
      "\u001b[0;31mIndexError\u001b[0m                                Traceback (most recent call last)",
      "\u001b[0;32m<ipython-input-14-72f244ed9ae1>\u001b[0m in \u001b[0;36m<module>\u001b[0;34m\u001b[0m\n\u001b[1;32m      3\u001b[0m \u001b[0;34m\u001b[0m\u001b[0m\n\u001b[1;32m      4\u001b[0m \u001b[0;32mfor\u001b[0m \u001b[0mi\u001b[0m \u001b[0;32min\u001b[0m \u001b[0mrange\u001b[0m\u001b[0;34m(\u001b[0m\u001b[0mlen\u001b[0m\u001b[0;34m(\u001b[0m\u001b[0ma\u001b[0m\u001b[0;34m.\u001b[0m\u001b[0msplit\u001b[0m\u001b[0;34m(\u001b[0m\u001b[0;34m' '\u001b[0m\u001b[0;34m)\u001b[0m\u001b[0;34m)\u001b[0m\u001b[0;34m)\u001b[0m\u001b[0;34m:\u001b[0m\u001b[0;34m\u001b[0m\u001b[0m\n\u001b[0;32m----> 5\u001b[0;31m     \u001b[0mb\u001b[0m\u001b[0;34m.\u001b[0m\u001b[0mappend\u001b[0m\u001b[0;34m(\u001b[0m\u001b[0ma1\u001b[0m\u001b[0;34m[\u001b[0m\u001b[0mi\u001b[0m\u001b[0;34m]\u001b[0m\u001b[0;34m)\u001b[0m\u001b[0;34m\u001b[0m\u001b[0m\n\u001b[0m\u001b[1;32m      6\u001b[0m \u001b[0mb\u001b[0m \u001b[0;34m=\u001b[0m \u001b[0mb\u001b[0m\u001b[0;34m[\u001b[0m\u001b[0;34m:\u001b[0m\u001b[0;34m:\u001b[0m\u001b[0;34m-\u001b[0m\u001b[0;36m1\u001b[0m\u001b[0;34m]\u001b[0m\u001b[0;34m\u001b[0m\u001b[0m\n\u001b[1;32m      7\u001b[0m \u001b[0;32mfor\u001b[0m \u001b[0mi\u001b[0m \u001b[0;32min\u001b[0m \u001b[0mrange\u001b[0m\u001b[0;34m(\u001b[0m\u001b[0mlen\u001b[0m\u001b[0;34m(\u001b[0m\u001b[0ma\u001b[0m\u001b[0;34m.\u001b[0m\u001b[0msplit\u001b[0m\u001b[0;34m(\u001b[0m\u001b[0;34m' '\u001b[0m\u001b[0;34m)\u001b[0m\u001b[0;34m)\u001b[0m\u001b[0;34m)\u001b[0m\u001b[0;34m:\u001b[0m\u001b[0;34m\u001b[0m\u001b[0m\n",
      "\u001b[0;31mIndexError\u001b[0m: list index out of range"
     ]
    }
   ],
   "source": []
  },
  {
   "cell_type": "code",
   "execution_count": 12,
   "metadata": {},
   "outputs": [
    {
     "name": "stdout",
     "output_type": "stream",
     "text": [
      "i am a boy\n",
      "boy a am i\n"
     ]
    }
   ],
   "source": [
    "def rever_sentence(sentence):\n",
    "\twords = sentence.split()\n",
    "\twords.reverse()\n",
    "\tnew_str = \" \".join(words)\n",
    "\treturn new_str\n",
    "a = input()\n",
    "\n",
    "print (rever_sentence(a))"
   ]
  },
  {
   "cell_type": "code",
   "execution_count": 17,
   "metadata": {},
   "outputs": [
    {
     "name": "stdout",
     "output_type": "stream",
     "text": [
      "10.70.44.68~255.254.255.0\n",
      "1.0.0.1~255.0.0.0\n",
      "192.168.0.2~255.255.255.0\n",
      "19..0.~255.255.255.0\n",
      "\n",
      "1 0 1 0 0 2 1\n"
     ]
    }
   ],
   "source": [
    "import re\n",
    " \n",
    "def isLegalIP(IP):\n",
    "    if not IP or IP == \"\":\n",
    "        return False\n",
    "     \n",
    "    pattern = re.compile(r\"^\\d{1,3}\\.\\d{1,3}\\.\\d{1,3}\\.\\d{1,3}$\")\n",
    "    match = pattern.match(IP)\n",
    "    if not match:\n",
    "        return False\n",
    "     \n",
    "    nums = IP.split(\".\")\n",
    "    for num in nums:\n",
    "        n = int(num)\n",
    "        if n<0 or n>255:\n",
    "            return False\n",
    "         \n",
    "    return True\n",
    " \n",
    "def CatagoryIP(IP):\n",
    "    if not IP or IP == \"\":\n",
    "        return False\n",
    "    nums = IP.split(\".\")\n",
    "    if 126 >= int(nums[0]) >= 1:\n",
    "        return \"A\"\n",
    "    if 191 >= int(nums[0]) >= 128:\n",
    "        return \"B\"\n",
    "    if 223 >= int(nums[0]) >= 192:\n",
    "        return \"C\"\n",
    "    if 239 >= int(nums[0]) >= 224:\n",
    "        return \"D\"\n",
    "    if 255 >= int(nums[0]) >= 240:\n",
    "        return \"E\"\n",
    "        \n",
    "    return False\n",
    " \n",
    "def isPrivateIP(IP):\n",
    "    if not IP or IP == \"\":\n",
    "        return False\n",
    "     \n",
    "    nums = IP.split(\".\")\n",
    "    if int(nums[0]) == 10:\n",
    "        return True\n",
    "    if int(nums[0]) == 172:\n",
    "        if 31 >= int(nums[1]) >= 16:\n",
    "            return True\n",
    "    if int(nums[0]) == 192 and int(nums[1]) == 168:\n",
    "        return True\n",
    "     \n",
    "    return False\n",
    " \n",
    "def isLegalMaskCode(Mask):\n",
    "    if not Mask or Mask == \"\":\n",
    "        return False\n",
    "    if not isLegalIP(Mask):\n",
    "        return False\n",
    "         \n",
    "    binaryMask = \"\".join(map(lambda x: bin(int(x))[2:].zfill(8), Mask.split(\".\")))\n",
    "    indexOfFirstZero = binaryMask.find(\"0\")\n",
    "    indexOfLastOne = binaryMask.rfind(\"1\")\n",
    "    if indexOfLastOne > indexOfFirstZero:\n",
    "        return False\n",
    "    return True\n",
    "         \n",
    "try:\n",
    "    A, B, C, D, E, Err, P = [0, 0, 0, 0, 0, 0, 0]\n",
    "    while True:\n",
    "        s = input()\n",
    "        IP, Mask = s.split(\"~\")\n",
    "         \n",
    "        if not isLegalIP(IP) or not isLegalMaskCode(Mask):\n",
    "            Err += 1\n",
    "        else:\n",
    "            if isPrivateIP(IP):\n",
    "                P += 1\n",
    "            cat = CatagoryIP(IP)\n",
    "            if cat == \"A\":\n",
    "                A += 1\n",
    "            if cat == \"B\":\n",
    "                B += 1\n",
    "            if cat == \"C\":\n",
    "                C += 1\n",
    "            if cat == \"D\":\n",
    "                D += 1\n",
    "            if cat == \"E\":\n",
    "                E += 1\n",
    "         \n",
    "except:\n",
    "    print (A, B, C, D, E, Err, P)\n",
    "    pass\n",
    " \n",
    "\n"
   ]
  },
  {
   "cell_type": "code",
   "execution_count": 75,
   "metadata": {},
   "outputs": [
    {
     "name": "stdout",
     "output_type": "stream",
     "text": [
      "$bo*y gi!r#l #\n",
      "l r gi y bo\n"
     ]
    }
   ],
   "source": [
    "import re\n",
    "\n",
    "def rever_sentence(sentence):\n",
    "    cop = re.compile(\"[^a-z^A-Z]\")\n",
    "\n",
    "    sentence = cop.sub(\" \", sentence)\n",
    "    words = sentence.split()\n",
    "    words.reverse()\n",
    "    new_str = \" \".join(words)\n",
    "    \n",
    "    return new_str\n",
    "\n",
    "\n",
    "a = input()\n",
    "\n",
    "print (rever_sentence(a))\n"
   ]
  },
  {
   "cell_type": "code",
   "execution_count": 73,
   "metadata": {},
   "outputs": [
    {
     "name": "stdout",
     "output_type": "stream",
     "text": [
      "<class 'str'>\n"
     ]
    }
   ],
   "source": [
    "sentence = '$bo*y gi!r#l #'\n",
    "cop = re.compile(\"[^a-z^A-Z]\")\n",
    "sentence = cop.sub(\" \", sentence)\n",
    "words = sentence.split()\n",
    "print( type(sentence))"
   ]
  },
  {
   "cell_type": "code",
   "execution_count": 74,
   "metadata": {},
   "outputs": [
    {
     "data": {
      "text/plain": [
       "['bo', 'y', 'gi', 'r', 'l']"
      ]
     },
     "execution_count": 74,
     "metadata": {},
     "output_type": "execute_result"
    }
   ],
   "source": [
    "words"
   ]
  },
  {
   "cell_type": "code",
   "execution_count": 84,
   "metadata": {},
   "outputs": [
    {
     "name": "stdout",
     "output_type": "stream",
     "text": [
      "69.173.41.51\n",
      "YES\n"
     ]
    }
   ],
   "source": [
    "import socket\n",
    "def is_valid_ip(ip):\n",
    "    \"\"\"Returns true if the given string is a well-formed IP address.\n",
    "    Supports IPv4 and IPv6.\n",
    "    \"\"\"\n",
    "    if not ip or '\\x00' in ip:\n",
    "        # getaddrinfo resolves empty strings to localhost, and truncates\n",
    "        # on zero bytes.\n",
    "        return False\n",
    "    try:\n",
    "        res = socket.getaddrinfo(ip, 0, socket.AF_UNSPEC,\n",
    "                                 socket.SOCK_STREAM,\n",
    "                                 0, socket.AI_NUMERICHOST)\n",
    "        if bool(res) == True:\n",
    "            result = 'YES'\n",
    "        else:\n",
    "            result = 'NO'\n",
    "        return result\n",
    "    except socket.gaierror as e:\n",
    "        if e.args[0] == socket.EAI_NONAME:\n",
    "            result =  False\n",
    "        raise\n",
    "    return True\n",
    "\n",
    "a = input()\n",
    "print (is_valid_ip(a))\n"
   ]
  },
  {
   "cell_type": "code",
   "execution_count": 99,
   "metadata": {},
   "outputs": [
    {
     "name": "stdout",
     "output_type": "stream",
     "text": [
      "10.138.15.1\n",
      "False\n"
     ]
    }
   ],
   "source": [
    "import re\n",
    "def check_ip(ipAddr):\n",
    "    compile_ip=re.compile('^(1d{2}|2[0-4]d|25[0-5]|[1-9]d|[1-9]).(1d{2}|2[0-4]d|25[0-5]|[1-9]d|d).(1d{2}|2[0-4]d|25[0-5]|[1-9]d|d).(1d{2}|2[0-4]d|25[0-5]|[1-9]d|d)$')\n",
    "    if compile_ip.match(ipAddr):\n",
    "        return True \n",
    "    else: \n",
    "        return False\n",
    "a = input ()\n",
    "print (check_ip(a))"
   ]
  },
  {
   "cell_type": "code",
   "execution_count": 104,
   "metadata": {},
   "outputs": [
    {
     "name": "stdout",
     "output_type": "stream",
     "text": [
      "69.173.41.51\n",
      "YES\n"
     ]
    }
   ],
   "source": [
    "\n",
    "def checkip(ip):\n",
    "    p = re.compile('^((25[0-5]|2[0-4]\\d|[01]?\\d\\d?)\\.){3}(25[0-5]|2[0-4]\\d|[01]?\\d\\d?)$')\n",
    "    if p.match(ip):\n",
    "        result = 'YES'\n",
    "    else:\n",
    "        result = 'NO'\n",
    "        \n",
    "    return result\n",
    "a = input ()\n",
    "print (checkip(a))"
   ]
  },
  {
   "cell_type": "code",
   "execution_count": 113,
   "metadata": {},
   "outputs": [
    {
     "name": "stdout",
     "output_type": "stream",
     "text": [
      "print(\"\\n\",letters,\"\\n\",space,\"\\n\",digit,\"\\n\",others)\n",
      "32\n",
      "0\n",
      "0\n",
      "21\n"
     ]
    }
   ],
   "source": [
    "s=input()\n",
    "letters=0\n",
    "space=0\n",
    "digit=0\n",
    "others=0\n",
    "for c in s:\n",
    "    if c.isalpha():\n",
    "        letters+=1\n",
    "    elif c.isspace():\n",
    "        space+=1\n",
    "    elif c.isdigit():\n",
    "        digit+=1\n",
    "    else:\n",
    "        others+=1\n",
    "# print(\"\\n\",letters,\"\\n\",space,\"\\n\",digit,\"\\n\",others)\n",
    "print(letters)\n",
    "print(space)\n",
    "print(digit)\n",
    "print(others)\n"
   ]
  },
  {
   "cell_type": "code",
   "execution_count": 121,
   "metadata": {},
   "outputs": [
    {
     "data": {
      "text/plain": [
       "745"
      ]
     },
     "execution_count": 121,
     "metadata": {},
     "output_type": "execute_result"
    }
   ],
   "source": [
    "a = 6598745\n",
    "b = (a - int(a/1000)*1000)\n",
    "b"
   ]
  },
  {
   "cell_type": "code",
   "execution_count": 128,
   "metadata": {},
   "outputs": [
    {
     "ename": "AttributeError",
     "evalue": "'int' object has no attribute 'to_array'",
     "output_type": "error",
     "traceback": [
      "\u001b[0;31m---------------------------------------------------------------------------\u001b[0m",
      "\u001b[0;31mAttributeError\u001b[0m                            Traceback (most recent call last)",
      "\u001b[0;32m<ipython-input-128-618fe81bff4e>\u001b[0m in \u001b[0;36m<module>\u001b[0;34m\u001b[0m\n\u001b[0;32m----> 1\u001b[0;31m \u001b[0ma\u001b[0m\u001b[0;34m.\u001b[0m\u001b[0mto_array\u001b[0m\u001b[0;34m(\u001b[0m\u001b[0;34m)\u001b[0m\u001b[0;34m\u001b[0m\u001b[0m\n\u001b[0m",
      "\u001b[0;31mAttributeError\u001b[0m: 'int' object has no attribute 'to_array'"
     ]
    }
   ],
   "source": [
    "python 给出一段数字找出这段数字包含1000以内的最大数"
   ]
  },
  {
   "cell_type": "code",
   "execution_count": 129,
   "metadata": {},
   "outputs": [
    {
     "ename": "SyntaxError",
     "evalue": "unexpected EOF while parsing (<ipython-input-129-a11d63cd0328>, line 2)",
     "output_type": "error",
     "traceback": [
      "\u001b[0;36m  File \u001b[0;32m\"<ipython-input-129-a11d63cd0328>\"\u001b[0;36m, line \u001b[0;32m2\u001b[0m\n\u001b[0;31m    \u001b[0m\n\u001b[0m    ^\u001b[0m\n\u001b[0;31mSyntaxError\u001b[0m\u001b[0;31m:\u001b[0m unexpected EOF while parsing\n"
     ]
    }
   ],
   "source": [
    "\n",
    "    "
   ]
  },
  {
   "cell_type": "code",
   "execution_count": 144,
   "metadata": {},
   "outputs": [
    {
     "name": "stdout",
     "output_type": "stream",
     "text": [
      "6598745\n",
      "0\n",
      "0\n",
      "1\n",
      "0\n",
      "1\n",
      "2\n",
      "0\n",
      "1\n",
      "2\n",
      "3\n",
      "0\n",
      "1\n",
      "2\n",
      "3\n",
      "4\n"
     ]
    }
   ],
   "source": [
    "a = input()\n",
    "nums = []\n",
    "for s in a:\n",
    "    nums.append(int(s))\n",
    "    \n",
    "    for i in range(0,len(nums)-2):\n",
    "        print (i)"
   ]
  },
  {
   "cell_type": "code",
   "execution_count": null,
   "metadata": {},
   "outputs": [],
   "source": [
    "a = input()\n",
    "nums = []\n",
    "for s in a:\n",
    "    nums.append(int(s))\n",
    "    b=len(nums)\n",
    "    \n",
    "for i in range(b-3):\n",
    "        num = nums[i:i+2]\n",
    "        \n",
    "print(num)\n",
    "print(b)\n",
    "print(nums)"
   ]
  },
  {
   "cell_type": "code",
   "execution_count": 134,
   "metadata": {},
   "outputs": [
    {
     "data": {
      "text/plain": [
       "1"
      ]
     },
     "execution_count": 134,
     "metadata": {},
     "output_type": "execute_result"
    }
   ],
   "source": [
    "len(a)"
   ]
  },
  {
   "cell_type": "code",
   "execution_count": null,
   "metadata": {},
   "outputs": [],
   "source": []
  }
 ],
 "metadata": {
  "kernelspec": {
   "display_name": "Python 3",
   "language": "python",
   "name": "python3"
  },
  "language_info": {
   "codemirror_mode": {
    "name": "ipython",
    "version": 3
   },
   "file_extension": ".py",
   "mimetype": "text/x-python",
   "name": "python",
   "nbconvert_exporter": "python",
   "pygments_lexer": "ipython3",
   "version": "3.6.6"
  }
 },
 "nbformat": 4,
 "nbformat_minor": 2
}
