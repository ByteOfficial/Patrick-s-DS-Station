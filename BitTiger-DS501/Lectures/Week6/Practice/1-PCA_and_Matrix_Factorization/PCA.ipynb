{
 "cells": [
  {
   "cell_type": "markdown",
   "metadata": {},
   "source": [
    "# Principal Component Analysis\n",
    "\n",
    "BitTiger DS501"
   ]
  },
  {
   "cell_type": "markdown",
   "metadata": {},
   "source": [
    "### Load data"
   ]
  },
  {
   "cell_type": "code",
   "execution_count": null,
   "metadata": {
    "collapsed": true
   },
   "outputs": [],
   "source": [
    "import pandas as pd\n",
    "import numpy as np\n",
    "\n",
    "df_hitters = pd.read_csv('../data/hitters.csv')\n",
    "\n",
    "# Dropping NAs\n",
    "df_hitters.dropna(inplace=True)"
   ]
  },
  {
   "cell_type": "code",
   "execution_count": null,
   "metadata": {
    "collapsed": true
   },
   "outputs": [],
   "source": [
    "df_hitters.head()"
   ]
  },
  {
   "cell_type": "code",
   "execution_count": null,
   "metadata": {
    "collapsed": true
   },
   "outputs": [],
   "source": [
    "df_hitters['Division'].value_counts()"
   ]
  },
  {
   "cell_type": "markdown",
   "metadata": {},
   "source": [
    "### Cleaning the data"
   ]
  },
  {
   "cell_type": "code",
   "execution_count": null,
   "metadata": {
    "collapsed": true
   },
   "outputs": [],
   "source": [
    "# Binarizing columns\n",
    "def map_binary(df, col):\n",
    "    vals = df[col].unique()\n",
    "    df[col] = df[col].apply(lambda x: 0 if x == vals[0] else 1)\n",
    "\n",
    "map_binary(df_hitters, 'League')\n",
    "map_binary(df_hitters, 'NewLeague')\n",
    "map_binary(df_hitters, 'Division')"
   ]
  },
  {
   "cell_type": "markdown",
   "metadata": {},
   "source": [
    "### Get features and target"
   ]
  },
  {
   "cell_type": "code",
   "execution_count": null,
   "metadata": {
    "collapsed": true
   },
   "outputs": [],
   "source": [
    "feature_names = df_hitters.columns.difference(['Salary'])\n",
    "\n",
    "X = df_hitters[feature_names].astype(float).values\n",
    "\n",
    "y = df_hitters['Salary'].values"
   ]
  },
  {
   "cell_type": "markdown",
   "metadata": {},
   "source": [
    "### Stardardize features"
   ]
  },
  {
   "cell_type": "code",
   "execution_count": null,
   "metadata": {
    "collapsed": true
   },
   "outputs": [],
   "source": [
    "from sklearn.preprocessing import StandardScaler\n",
    "\n",
    "scaler = StandardScaler()\n",
    "\n",
    "X_scaled = scaler.fit_transform(X)"
   ]
  },
  {
   "cell_type": "markdown",
   "metadata": {},
   "source": [
    "### Train test split"
   ]
  },
  {
   "cell_type": "code",
   "execution_count": null,
   "metadata": {
    "collapsed": true
   },
   "outputs": [],
   "source": [
    "from sklearn.model_selection import train_test_split\n",
    "\n",
    "X_train, X_test, y_train, y_test = train_test_split(X_scaled, y, test_size=0.2, random_state=42)"
   ]
  },
  {
   "cell_type": "markdown",
   "metadata": {},
   "source": [
    "### Use PCA to transform data and get princial components"
   ]
  },
  {
   "cell_type": "code",
   "execution_count": null,
   "metadata": {
    "collapsed": true
   },
   "outputs": [],
   "source": [
    "from sklearn.decomposition import PCA\n",
    "\n",
    "n_col = X_train.shape[1]\n",
    "\n",
    "pca = PCA(n_components=n_col)\n",
    "\n",
    "train_components = pca.fit_transform(X_train)# fit: get V, lambda; transform: X_train*V\n",
    "test_components = pca.transform(X_test)\n"
   ]
  },
  {
   "cell_type": "code",
   "execution_count": null,
   "metadata": {
    "collapsed": true
   },
   "outputs": [],
   "source": [
    "# transformed data in new space has the same dimension as original data\n",
    "print(X_test.shape)\n",
    "print(test_components.shape)"
   ]
  },
  {
   "cell_type": "code",
   "execution_count": null,
   "metadata": {
    "collapsed": true
   },
   "outputs": [],
   "source": [
    "# transformed by sklearn\n",
    "train_components"
   ]
  },
  {
   "cell_type": "code",
   "execution_count": null,
   "metadata": {
    "collapsed": true
   },
   "outputs": [],
   "source": [
    "# transformed by M*V in class, they are equivalent!\n",
    "train_components_2 = X_train.dot(pca.components_.T)\n",
    "train_components_2"
   ]
  },
  {
   "cell_type": "code",
   "execution_count": null,
   "metadata": {
    "collapsed": true
   },
   "outputs": [],
   "source": [
    "print(pca.explained_variance_.shape)\n",
    "print(pca.explained_variance_)"
   ]
  },
  {
   "cell_type": "code",
   "execution_count": null,
   "metadata": {
    "collapsed": true
   },
   "outputs": [],
   "source": [
    "# Inspect the principal axes in feature space\n",
    "print(pca.components_.shape)\n",
    "print(pca.components_)"
   ]
  },
  {
   "cell_type": "code",
   "execution_count": null,
   "metadata": {
    "collapsed": true
   },
   "outputs": [],
   "source": [
    "pca.components_.T.dot(pca.components_)"
   ]
  },
  {
   "cell_type": "code",
   "execution_count": null,
   "metadata": {
    "collapsed": true
   },
   "outputs": [],
   "source": [
    "import matplotlib.pyplot as plt\n",
    "%matplotlib inline\n",
    "plt.style.use(\"ggplot\")"
   ]
  },
  {
   "cell_type": "code",
   "execution_count": null,
   "metadata": {
    "collapsed": true
   },
   "outputs": [],
   "source": [
    "plt.imshow(np.cov(pca.components_.T))\n",
    "plt.show()"
   ]
  },
  {
   "cell_type": "code",
   "execution_count": null,
   "metadata": {
    "collapsed": true
   },
   "outputs": [],
   "source": [
    "# visualize the covariance of transformed feature matrix\n",
    "plt.imshow(np.cov(train_components.T))\n",
    "plt.show()"
   ]
  },
  {
   "cell_type": "markdown",
   "metadata": {},
   "source": [
    "### Let's do it by solving eigenvalue problem and compare"
   ]
  },
  {
   "cell_type": "code",
   "execution_count": null,
   "metadata": {
    "collapsed": true
   },
   "outputs": [],
   "source": [
    "import copy\n",
    "from numpy.linalg import eigh\n",
    "\n",
    "# fit\n",
    "cov_train = np.cov(X_train.T)\n",
    "lambdas, v = eigh(cov_train)\n",
    "\n",
    "# eigh order lambda from small to large, so flip\n",
    "lambdas = lambdas[::-1]\n",
    "v = -np.flip(v,axis=1)\n",
    "\n",
    "print(lambdas.shape)\n",
    "print(v.shape)"
   ]
  },
  {
   "cell_type": "code",
   "execution_count": null,
   "metadata": {
    "collapsed": true
   },
   "outputs": [],
   "source": [
    "# compare variances\n",
    "print(pca.explained_variance_)\n",
    "print(lambdas)"
   ]
  },
  {
   "cell_type": "code",
   "execution_count": null,
   "metadata": {
    "collapsed": true
   },
   "outputs": [],
   "source": [
    "# compare components\n",
    "v.T - pca.components_"
   ]
  },
  {
   "cell_type": "code",
   "execution_count": null,
   "metadata": {
    "collapsed": true
   },
   "outputs": [],
   "source": [
    "# compare tranformed training data\n",
    "# eigen value sovler:\n",
    "train_components_eig = X_train.dot(v)\n",
    "train_components_eig"
   ]
  },
  {
   "cell_type": "code",
   "execution_count": null,
   "metadata": {
    "collapsed": true
   },
   "outputs": [],
   "source": [
    "# sklearn solver:\n",
    "train_components\n",
    "\n",
    "# they are equivalent!"
   ]
  },
  {
   "cell_type": "markdown",
   "metadata": {},
   "source": [
    "### Let's continue with sklearn pca sovler"
   ]
  },
  {
   "cell_type": "markdown",
   "metadata": {},
   "source": [
    "### See how much variance the principal components explain"
   ]
  },
  {
   "cell_type": "code",
   "execution_count": null,
   "metadata": {
    "collapsed": true
   },
   "outputs": [],
   "source": [
    "pca_range = np.arange(n_col) + 1\n",
    "\n",
    "pca_names = ['PCA_%s' % i for i in pca_range]\n",
    "\n",
    "plt.bar(pca_range, pca.explained_variance_, align='center')\n",
    "\n",
    "xticks = plt.xticks(pca_range, pca_names, rotation=90)\n",
    "\n",
    "plt.ylabel('Variance Explained')"
   ]
  },
  {
   "cell_type": "markdown",
   "metadata": {},
   "source": [
    "### See how much (percentage of) variance the principal components explain"
   ]
  },
  {
   "cell_type": "code",
   "execution_count": null,
   "metadata": {
    "collapsed": true
   },
   "outputs": [],
   "source": [
    "pca_range = np.arange(n_col) + 1\n",
    "\n",
    "pca_names = ['PCA_%s' % i for i in pca_range]\n",
    "\n",
    "plt.bar(pca_range, pca.explained_variance_ratio_, align='center')\n",
    "\n",
    "xticks = plt.xticks(pca_range, pca_names, rotation=90)\n",
    "\n",
    "plt.ylabel('Proportion of Variance Explained')"
   ]
  },
  {
   "cell_type": "markdown",
   "metadata": {},
   "source": [
    "### How to determine k: percent of variance explained"
   ]
  },
  {
   "cell_type": "code",
   "execution_count": null,
   "metadata": {
    "collapsed": true
   },
   "outputs": [],
   "source": [
    "pca_range = np.arange(n_col) + 1\n",
    "\n",
    "pca_names = ['PCA_%s' % i for i in pca_range]\n",
    "\n",
    "plt.bar(pca_range, pca.explained_variance_ratio_, align='center')\n",
    "plt.plot(pca_range, np.cumsum(pca.explained_variance_ratio_), 'g-')\n",
    "plt.plot(pca_range, 0.9*np.ones(len(pca_range)), 'r-')\n",
    "\n",
    "xticks = plt.xticks(pca_range, pca_names, rotation=90)\n",
    "\n",
    "plt.ylabel('Proportion of Variance Explained')"
   ]
  },
  {
   "cell_type": "markdown",
   "metadata": {},
   "source": [
    "### Get train and test error with K-Fold cross validation."
   ]
  },
  {
   "cell_type": "code",
   "execution_count": null,
   "metadata": {
    "collapsed": true
   },
   "outputs": [],
   "source": [
    "from sklearn.linear_model import LinearRegression\n",
    "from sklearn.metrics import mean_squared_error, r2_score\n",
    "from sklearn.model_selection import cross_val_score\n",
    "\n",
    "train_mse_arr = np.array([])\n",
    "test_mse_arr = np.array([])\n",
    "\n",
    "for i in pca_range:\n",
    "\n",
    "    train_subset = train_components[:, :i]\n",
    "\n",
    "    pca_linear = LinearRegression()\n",
    "\n",
    "    pca_linear.fit(train_subset, y_train)\n",
    "\n",
    "    # Get train error\n",
    "    train_mse = cross_val_score(pca_linear, train_subset, y=y_train,\n",
    "                                scoring='neg_mean_squared_error', cv=10) * -1\n",
    "    train_mse_arr = np.append(train_mse_arr, train_mse.mean())\n",
    "    \n",
    "    # Get test error\n",
    "    test_set = test_components[:, :i]\n",
    "    test_mse = mean_squared_error(pca_linear.predict(test_set), y_test)\n",
    "    test_mse_arr = np.append(test_mse_arr, test_mse)"
   ]
  },
  {
   "cell_type": "markdown",
   "metadata": {},
   "source": [
    "### Plot train mse"
   ]
  },
  {
   "cell_type": "code",
   "execution_count": null,
   "metadata": {
    "collapsed": true
   },
   "outputs": [],
   "source": [
    "plt.plot(pca_range, train_mse_arr, marker='o', color='b', alpha=.5, label='train mse')\n",
    "plt.ylabel('MSE', fontsize=14)\n",
    "plt.xlabel('Principal Components Included in Model', fontsize=14)\n",
    "plt.legend(loc='best')\n",
    "\n",
    "best_train_mse_pca, min_train_mse = np.argmin(train_mse_arr) + 1, np.min(train_mse_arr)\n",
    "\n",
    "plt.axvline(best_train_mse_pca, color='b', ls='--', alpha=.3)\n",
    "\n",
    "print('# of PCs that gives lowest train MSE:', best_train_mse_pca, '@', min_train_mse)"
   ]
  },
  {
   "cell_type": "markdown",
   "metadata": {},
   "source": [
    "### Plot test mse"
   ]
  },
  {
   "cell_type": "code",
   "execution_count": null,
   "metadata": {
    "collapsed": true
   },
   "outputs": [],
   "source": [
    "plt.plot(pca_range, test_mse_arr, marker='o', color='b', alpha=.5, label='test mse')\n",
    "plt.ylabel('MSE', fontsize=14)\n",
    "plt.xlabel('Principal Components Included in Model', fontsize=14)\n",
    "plt.legend(loc='best')\n",
    "\n",
    "best_test_mse_pca, min_test_mse = np.argmin(test_mse_arr) + 1, np.min(test_mse_arr)\n",
    "\n",
    "plt.axvline(best_test_mse_pca, color='b', ls='--', alpha=.3)\n",
    "\n",
    "print('# of PCs that gives lowest test MSE:', best_test_mse_pca, '@', min_test_mse)"
   ]
  },
  {
   "cell_type": "markdown",
   "metadata": {},
   "source": [
    "### Plot train and test mse"
   ]
  },
  {
   "cell_type": "code",
   "execution_count": null,
   "metadata": {
    "collapsed": true
   },
   "outputs": [],
   "source": [
    "plt.plot(pca_range, train_mse_arr, marker='o', color='b', alpha=.5, label='train mse')\n",
    "plt.plot(pca_range, test_mse_arr, marker='o', color='r', alpha=.5, label='test mse')\n",
    "plt.ylabel('MSE', fontsize=14)\n",
    "plt.xlabel('Principal Components Included in Model', fontsize=14)\n",
    "plt.legend(loc='best')"
   ]
  }
 ],
 "metadata": {
  "anaconda-cloud": {},
  "kernelspec": {
   "display_name": "Python 3",
   "language": "python",
   "name": "python3"
  },
  "language_info": {
   "codemirror_mode": {
    "name": "ipython",
    "version": 3
   },
   "file_extension": ".py",
   "mimetype": "text/x-python",
   "name": "python",
   "nbconvert_exporter": "python",
   "pygments_lexer": "ipython3",
   "version": "3.6.4"
  }
 },
 "nbformat": 4,
 "nbformat_minor": 1
}
