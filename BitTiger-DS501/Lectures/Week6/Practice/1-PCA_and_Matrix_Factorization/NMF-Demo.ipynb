{
 "cells": [
  {
   "cell_type": "markdown",
   "metadata": {},
   "source": [
    "# Non-negative Matrix Factorization\n",
    "\n",
    "BitTiger DS501"
   ]
  },
  {
   "cell_type": "code",
   "execution_count": null,
   "metadata": {
    "collapsed": true
   },
   "outputs": [],
   "source": [
    "import pandas as pd\n",
    "import numpy as np\n",
    "\n",
    "%matplotlib inline"
   ]
  },
  {
   "cell_type": "markdown",
   "metadata": {},
   "source": [
    "## Review\n",
    "\n",
    "### System of Linear Equations Exact Solver\n",
    "\n",
    "$$ \\begin{bmatrix} 1 & 2 \\\\ -3 & 4 \\end{bmatrix} \\left[ \\begin{array}{c} x_1 \\\\ x_2 \\end{array} \\right] = \\left[ \\begin{array}{cc} 7 \\\\ -9 \\end{array} \\right] $$"
   ]
  },
  {
   "cell_type": "code",
   "execution_count": null,
   "metadata": {
    "collapsed": true
   },
   "outputs": [],
   "source": [
    "A = np.array([[1, 2], [-3, 4]])\n",
    "b = np.array([7, -9])\n",
    "\n",
    "print(np.linalg.solve(A, b))"
   ]
  },
  {
   "cell_type": "markdown",
   "metadata": {},
   "source": [
    "### Least Squares Solver\n",
    "\n",
    "What if we have an overdetermined system of linear equations? E.g.\n",
    "\n",
    "$$ \\begin{bmatrix} 1 & 2 \\\\ -3 & 4 \\\\ 1 & -4 \\end{bmatrix} \\left[ \\begin{array}{c} x_1 \\\\ x_2 \\end{array} \\right] = \\left[ \\begin{array}{cc} 7 \\\\ -9 \\\\ 17 \\end{array} \\right] $$\n",
    "\n",
    "An exact solution is not guaranteed, so we must do something else. Least Squares dictates that we find the $x$ that minimizes the residual sum of squares (RSS).\n",
    "\n",
    "(Note: This is the solver we use when doing Linear Regression!)"
   ]
  },
  {
   "cell_type": "code",
   "execution_count": null,
   "metadata": {
    "collapsed": true
   },
   "outputs": [],
   "source": [
    "A = np.array([[1, 2], [-3, 4], [1, -4]])\n",
    "b = np.array([7, -9, 17])\n",
    "\n",
    "print(np.linalg.lstsq(A, b)[0])"
   ]
  },
  {
   "cell_type": "markdown",
   "metadata": {},
   "source": [
    "### Non-negative Least Squares Solver\n",
    "\n",
    "What if you want to constrain the solution to be non-negative?\n",
    "\n",
    "We have optomizers for that too!"
   ]
  },
  {
   "cell_type": "code",
   "execution_count": null,
   "metadata": {
    "collapsed": true
   },
   "outputs": [],
   "source": [
    "from scipy.optimize import nnls\n",
    "\n",
    "A = np.array([[1, 2], [-3, 4], [1, -4]])\n",
    "b = np.array([7, -9, 17])\n",
    "\n",
    "print(nnls(A, b)[0])"
   ]
  },
  {
   "cell_type": "markdown",
   "metadata": {},
   "source": [
    "## NMF for topic analysis\n",
    "\n",
    "### Example\n",
    "\n",
    "Let's look at users ratings of different movies. The ratings are from 1-5. A rating of 0 means the user hasn't watched the movie.\n",
    "\n",
    "|       | Matrix | Alien | StarWars | Casablanca | Titanic |\n",
    "| ----- | ------ | ----- | -------- | ---------- | ------ |\n",
    "| **Alice** |      1 |     2 |        2 |          0 |      0 |\n",
    "|   **Bob** |      3 |     5 |        5 |          0 |      0 |\n",
    "| **Cindy** |      4 |     4 |        4 |          0 |      0 |\n",
    "|   **Dan** |      5 |     5 |        5 |          0 |      0 |\n",
    "| **Emily** |      0 |     2 |        0 |          4 |      4 |\n",
    "| **Frank** |      0 |     0 |        0 |          5 |      5 |\n",
    "|  **Greg** |      0 |     1 |        0 |          2 |      2 |\n",
    "\n",
    "Note that the first three movies (Matrix, Alien, StarWars) are Sci-fi movies and the last two (Casablanca, Titanic) are Romance. We will be able to mathematically pull out these topics!"
   ]
  },
  {
   "cell_type": "code",
   "execution_count": null,
   "metadata": {
    "collapsed": true
   },
   "outputs": [],
   "source": [
    "M = np.array([[1, 2, 2, 0, 0],\n",
    "              [3, 5, 5, 0, 0],\n",
    "              [4, 4, 4, 0, 0],\n",
    "              [5, 5, 5, 0, 0],\n",
    "              [0, 2, 0, 4, 4],\n",
    "              [0, 0, 0, 5, 5],\n",
    "              [0, 1, 0, 2, 2]])"
   ]
  },
  {
   "cell_type": "code",
   "execution_count": null,
   "metadata": {
    "collapsed": true
   },
   "outputs": [],
   "source": [
    "# Compute NMF\n",
    "from sklearn.decomposition import NMF\n",
    "\n",
    "def fit_nmf(k):\n",
    "    nmf = NMF(n_components=k)\n",
    "    nmf.fit(M)\n",
    "    W = nmf.transform(M);\n",
    "    H = nmf.components_;\n",
    "    return nmf.reconstruction_err_\n",
    "\n",
    "error = [fit_nmf(i) for i in range(1,6)]\n"
   ]
  },
  {
   "cell_type": "code",
   "execution_count": null,
   "metadata": {
    "collapsed": true
   },
   "outputs": [],
   "source": [
    "import matplotlib.pyplot as plt\n",
    "plt.style.use('ggplot')\n",
    "% matplotlib inline\n",
    "\n",
    "\n",
    "plt.plot(range(1,6), error)\n",
    "plt.xlabel('k')\n",
    "plt.ylabel('Reconstruction Errror')"
   ]
  },
  {
   "cell_type": "code",
   "execution_count": null,
   "metadata": {
    "collapsed": true,
    "scrolled": true
   },
   "outputs": [],
   "source": [
    "# Fit using 3 hidden concepts\n",
    "nmf = NMF(n_components=3)\n",
    "nmf.fit(M)\n",
    "W = nmf.transform(M);\n",
    "H = nmf.components_;\n",
    "print('RSS = %.2f' % nmf.reconstruction_err_)"
   ]
  },
  {
   "cell_type": "code",
   "execution_count": null,
   "metadata": {
    "collapsed": true
   },
   "outputs": [],
   "source": [
    "# Make interpretable\n",
    "movies = ['Matrix','Alien','StarWars','Casablanca','Titanic']\n",
    "users = ['Alice','Bob','Cindy','Dan','Emily','Frank','Greg']\n",
    "\n",
    "W, H = (np.around(x,2) for x in (W,H))\n",
    "W = pd.DataFrame(W, index=users)\n",
    "H = pd.DataFrame(H, columns=movies)\n",
    "\n",
    "print(W) \n",
    "print(H)"
   ]
  },
  {
   "cell_type": "code",
   "execution_count": null,
   "metadata": {
    "collapsed": true
   },
   "outputs": [],
   "source": [
    "# Verify reconstruction\n",
    "print(np.around(W.dot(H),2))\n",
    "print(pd.DataFrame(M, index=users, columns=movies))"
   ]
  },
  {
   "cell_type": "code",
   "execution_count": null,
   "metadata": {
    "collapsed": true
   },
   "outputs": [],
   "source": [
    "# Compare to SVD\n",
    "from numpy.linalg import svd\n",
    "k = 3\n",
    "\n",
    "# Compute SVD\n",
    "U, sigma, VT = svd(M)\n",
    "\n",
    "# Make pretty\n",
    "U, sigma, VT = (np.around(x,2) for x in (U,sigma,VT))\n",
    "U = pd.DataFrame(U, index=users)\n",
    "VT = pd.DataFrame(VT, columns=movies)\n",
    "\n",
    "# Keep top two concepts\n",
    "U = U.iloc[:,:k]\n",
    "sigma = sigma[:k]\n",
    "VT = VT.iloc[:k,:]\n",
    "\n",
    "print(U)\n",
    "print(sigma)\n",
    "print(VT)"
   ]
  },
  {
   "cell_type": "markdown",
   "metadata": {
    "collapsed": true
   },
   "source": [
    "## Interpreting Concepts\n",
    "#### Think of NMF like 'fuzzy clustering'\n",
    "- The concepts are clusters\n",
    "- Each row (document, user, etc...) can belong to more than one concept\n",
    "\n",
    "#### Top Questions:\n",
    "1. What do the concepts (clusters) mean?\n",
    "2. To which concept(s) does each user/document belong?"
   ]
  },
  {
   "cell_type": "markdown",
   "metadata": {},
   "source": [
    "#### What is concept 0?"
   ]
  },
  {
   "cell_type": "code",
   "execution_count": null,
   "metadata": {
    "collapsed": true
   },
   "outputs": [],
   "source": [
    "# Top 2 movies in genre 0\n",
    "top_movies = H.iloc[0].sort_values(ascending=False).index[:2]\n",
    "top_movies"
   ]
  },
  {
   "cell_type": "markdown",
   "metadata": {},
   "source": [
    "#### Which users align with concept 0?"
   ]
  },
  {
   "cell_type": "code",
   "execution_count": null,
   "metadata": {
    "collapsed": true
   },
   "outputs": [],
   "source": [
    "# Top 2 users for genre 1\n",
    "top_users = W.iloc[:,0].sort_values(ascending=False).index[:2]\n",
    "top_users"
   ]
  },
  {
   "cell_type": "markdown",
   "metadata": {},
   "source": [
    "#### What concepts does Emily align with?"
   ]
  },
  {
   "cell_type": "code",
   "execution_count": null,
   "metadata": {
    "collapsed": true
   },
   "outputs": [],
   "source": [
    "W.loc['Emily']"
   ]
  },
  {
   "cell_type": "markdown",
   "metadata": {},
   "source": [
    "#### What are all the movies in each concept?"
   ]
  },
  {
   "cell_type": "code",
   "execution_count": null,
   "metadata": {
    "collapsed": true
   },
   "outputs": [],
   "source": [
    "# Number of movies in each concept\n",
    "thresh = .2  # movie is included if at least 20% of max weight\n",
    "for g in range(3):\n",
    "    all_movies = H.iloc[g,:]\n",
    "    included = H.columns[all_movies >= (thresh * all_movies.max())]\n",
    "    print(\"Concept %i contains: %s\" % (g, ', '.join(included)))"
   ]
  },
  {
   "cell_type": "markdown",
   "metadata": {},
   "source": [
    "#### Which users are associated with each concept?"
   ]
  },
  {
   "cell_type": "code",
   "execution_count": null,
   "metadata": {
    "collapsed": true
   },
   "outputs": [],
   "source": [
    "# Users in each concept\n",
    "thresh = .2  # movie is included if at least 20% of max weight\n",
    "for g in range(3):\n",
    "    all_users = W.iloc[:,g]\n",
    "    included = W.index[all_users >= (thresh * all_users.max())]\n",
    "    print(\"Concept %i contains: %s\" % (g, ', '.join(included)))"
   ]
  },
  {
   "cell_type": "code",
   "execution_count": null,
   "metadata": {
    "collapsed": true
   },
   "outputs": [],
   "source": []
  }
 ],
 "metadata": {
  "anaconda-cloud": {},
  "kernelspec": {
   "display_name": "Python 3",
   "language": "python",
   "name": "python3"
  },
  "language_info": {
   "codemirror_mode": {
    "name": "ipython",
    "version": 3
   },
   "file_extension": ".py",
   "mimetype": "text/x-python",
   "name": "python",
   "nbconvert_exporter": "python",
   "pygments_lexer": "ipython3",
   "version": "3.6.1"
  }
 },
 "nbformat": 4,
 "nbformat_minor": 1
}
